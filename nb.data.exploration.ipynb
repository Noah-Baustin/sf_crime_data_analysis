{
 "cells": [
  {
   "cell_type": "markdown",
   "id": "185b8ffa-40d5-4fc5-a875-f2b5ae7fb817",
   "metadata": {},
   "source": [
    "# Initial data exploration for my datasets"
   ]
  },
  {
   "cell_type": "markdown",
   "id": "ebb158ab-d033-4181-a766-a2ee25eb2a6d",
   "metadata": {},
   "source": [
    "More information about this project is available in my github repo here: https://github.com/Noah-Baustin/sf_crime_data_analysis"
   ]
  },
  {
   "cell_type": "code",
   "execution_count": null,
   "id": "49b3d7b4-8951-4481-ad73-4daae03f43f1",
   "metadata": {},
   "outputs": [],
   "source": [
    "#import modules\n",
    "import pandas as pd\n",
    "#import altair as alt"
   ]
  },
  {
   "cell_type": "code",
   "execution_count": null,
   "id": "0b705a2c-a305-4ba0-bb4c-93fc4b720215",
   "metadata": {},
   "outputs": [],
   "source": [
    "# import csv into a variable\n",
    "historical_data = pd.read_csv('raw_data/SFPD_Incident_Reports_2003-May2018/Police_Department_Incident_Reports__Historical_2003_to_May_2018.csv', dtype=str)"
   ]
  },
  {
   "cell_type": "markdown",
   "id": "adeadd3c-dccd-4a40-8b48-dde885b61f20",
   "metadata": {},
   "source": [
    "Let's take a look at our data:"
   ]
  },
  {
   "cell_type": "code",
   "execution_count": null,
   "id": "47725120-6890-48ce-aafd-e3964a70f31d",
   "metadata": {},
   "outputs": [],
   "source": [
    "historical_data"
   ]
  },
  {
   "cell_type": "code",
   "execution_count": null,
   "id": "b726cf50-a4a6-4b8c-b168-bbd0a73ccf90",
   "metadata": {},
   "outputs": [],
   "source": [
    "historical_data.info()"
   ]
  },
  {
   "cell_type": "markdown",
   "id": "825c00c0-2206-49a6-9002-7d9bc4b079c1",
   "metadata": {},
   "source": [
    "I also see that I've got some date columns that need to be reformatted: for sure 'Date'. Let's reformat that:"
   ]
  },
  {
   "cell_type": "code",
   "execution_count": null,
   "id": "a543c31e-5056-4388-91f0-5b866e48d160",
   "metadata": {},
   "outputs": [],
   "source": [
    "historical_data['Date'] = pd.to_datetime(historical_data['Date'])"
   ]
  },
  {
   "cell_type": "code",
   "execution_count": null,
   "id": "1f5c0e44-7165-499f-ac20-f655133ec07e",
   "metadata": {},
   "outputs": [],
   "source": [
    "historical_data.head()"
   ]
  },
  {
   "cell_type": "markdown",
   "id": "5416ee13-b11e-40c7-b539-5f8002c5ff1a",
   "metadata": {},
   "source": [
    "Let's take a closer look at our columns:"
   ]
  },
  {
   "cell_type": "code",
   "execution_count": null,
   "id": "13e3c588-959b-46f8-98e6-c77bd9048ca8",
   "metadata": {},
   "outputs": [],
   "source": [
    "historical_data.columns"
   ]
  },
  {
   "cell_type": "markdown",
   "id": "14047d25-7f7a-4d36-af7d-89345539b7d8",
   "metadata": {},
   "source": [
    "We can see here that there's a bunch of extra columns in the data that's not included in the documentation and are not essential to our analysis. Let's get rid of those columns."
   ]
  },
  {
   "cell_type": "code",
   "execution_count": null,
   "id": "7cdf200a-d915-4572-8c23-ca3ec05098ae",
   "metadata": {},
   "outputs": [],
   "source": [
    "#get rid of all those extra columns we don't need\n",
    "\n",
    "historical_data = historical_data[['PdId', 'IncidntNum', 'Incident Code', 'Category', 'Descript',\n",
    "       'DayOfWeek', 'Date', 'Time', 'PdDistrict', 'Resolution', 'Address', 'X',\n",
    "       'Y', 'location']].copy()"
   ]
  },
  {
   "cell_type": "code",
   "execution_count": null,
   "id": "3d9a15bf-1243-4fa7-8d64-52ec396e261e",
   "metadata": {},
   "outputs": [],
   "source": [
    "historical_data.columns"
   ]
  },
  {
   "cell_type": "markdown",
   "id": "8b00fe74-e603-4470-a6e6-9df10d9a6bcb",
   "metadata": {},
   "source": [
    "Now that our columns are cleaned up and our dates are formatted correctly, let's take a look at our date range included in the data:"
   ]
  },
  {
   "cell_type": "code",
   "execution_count": null,
   "id": "09944adb-abb3-4dbb-bd09-23475d7759bb",
   "metadata": {},
   "outputs": [],
   "source": [
    "historical_data['Date'].min()"
   ]
  },
  {
   "cell_type": "code",
   "execution_count": null,
   "id": "a8f77c2a-9cc5-4d4f-a281-be409b06c657",
   "metadata": {},
   "outputs": [],
   "source": [
    "historical_data['Date'].max()"
   ]
  },
  {
   "cell_type": "markdown",
   "id": "0e2650a2-ab35-452d-bae2-1dbe005340c1",
   "metadata": {},
   "source": [
    "We can see here that it appears that we most likely have complete data beginning in 2003. BUT we see here that the 2018 data is incomplete, so if we want to do an annual analysis, we'll need to exclude 2018."
   ]
  },
  {
   "cell_type": "markdown",
   "id": "2d6029a8-8b2b-443b-878a-c7fcf538e238",
   "metadata": {},
   "source": [
    "We've got 2,129,525 entries. Let's check out our three different columns that have incident indentification codes to see how many unique values are in each:"
   ]
  },
  {
   "cell_type": "code",
   "execution_count": null,
   "id": "e302decb-2513-4f8b-ba88-fdaf469ee631",
   "metadata": {},
   "outputs": [],
   "source": [
    "historical_data['IncidntNum'].nunique()"
   ]
  },
  {
   "cell_type": "code",
   "execution_count": null,
   "id": "ac1be79b-50b7-4072-abf2-873964b99ce8",
   "metadata": {},
   "outputs": [],
   "source": [
    "historical_data['Incident Code'].nunique()"
   ]
  },
  {
   "cell_type": "code",
   "execution_count": null,
   "id": "468b178a-e7e4-4690-86dc-e5ebee8e30de",
   "metadata": {},
   "outputs": [],
   "source": [
    "historical_data['PdId'].nunique()"
   ]
  },
  {
   "cell_type": "markdown",
   "id": "385e2b40-0dba-4698-b7dc-f1e00640aaaf",
   "metadata": {},
   "source": [
    "Our documentation tells us that the PdId column is equivelant to the row_id column in the new data (see downloaded pdf titled: Change Notice - Police Incident Reports). And the documentation for the newer dataset tells us that the row_id is the unique identifier for each row. \n",
    "\n",
    "It's a good sign that there's exaclty as many PdId unique values as there are rows in the dataset.\n",
    "\n",
    "It also makes sense that there are duplicate values in the IncidntNum column. The IncidntNum refers to the case number. So if a supplemental report was filed after the incident was initially entered in this dataset, it would show up with a new PdId BUT the IncidntNum would be the same. \n",
    "\n",
    "But that does mean that I need to make sure I'm not counting the same incident multiple times if it shows up in this dataset multiple times. Most likely, my analysis will focus on a unique set of IncidntNum. "
   ]
  },
  {
   "cell_type": "markdown",
   "id": "83acbbc0-57b9-4b68-a46c-1aba44e8e3f3",
   "metadata": {},
   "source": [
    "Let's double check that there's no duplicate rows:"
   ]
  },
  {
   "cell_type": "code",
   "execution_count": null,
   "id": "e424d502-9813-409e-b85f-7ac6c878c9be",
   "metadata": {},
   "outputs": [],
   "source": [
    "historical_data[historical_data.duplicated()]"
   ]
  },
  {
   "cell_type": "markdown",
   "id": "e8b384db-b6e0-42ad-8be1-38c11130026d",
   "metadata": {},
   "source": [
    "No duplicate rows, that's great."
   ]
  },
  {
   "cell_type": "markdown",
   "id": "8c26c7b2-2404-49ad-a7ef-cf60fb5a08e5",
   "metadata": {},
   "source": [
    "Let's find out how many duplicated IncidntNum values we have:"
   ]
  },
  {
   "cell_type": "code",
   "execution_count": null,
   "id": "b71ebf4d-e3bb-49d3-9b81-3ebbc059c3bc",
   "metadata": {},
   "outputs": [],
   "source": [
    "historical_data[historical_data['IncidntNum'].duplicated()]"
   ]
  },
  {
   "cell_type": "code",
   "execution_count": null,
   "id": "a3976361-72f1-470c-9807-53d193e75db9",
   "metadata": {},
   "outputs": [],
   "source": [
    "historical_data['IncidntNum'].nunique() + len(historical_data[historical_data['IncidntNum'].duplicated()])"
   ]
  },
  {
   "cell_type": "markdown",
   "id": "12c19c65-7163-4a68-b241-c6c36f78a515",
   "metadata": {},
   "source": [
    "There's 425,899 duplicates for 'IncidntNum'. We we add that to the number of unique values (above) it is equal to the number of rows in our dataset... that tells us that 1,703,626 is the actual number of incidents that we're working with."
   ]
  },
  {
   "cell_type": "markdown",
   "id": "8a27d942-d5a7-4743-92f3-a748dc28caa8",
   "metadata": {},
   "source": [
    "#### NOTE: explain this step better b/c confusion in Soo meeting"
   ]
  },
  {
   "cell_type": "markdown",
   "id": "45238d80-f497-43a4-b6e5-ad635d42752b",
   "metadata": {},
   "source": [
    "Let's take a look at some of our duplicates:"
   ]
  },
  {
   "cell_type": "markdown",
   "id": "a9ad47e7-3180-4b31-b97a-1bf2d08fd629",
   "metadata": {},
   "source": [
    "First we'll create a dataframe with our duplicated cases:"
   ]
  },
  {
   "cell_type": "code",
   "execution_count": null,
   "id": "2521f6d6-d184-40cf-9f98-ab84e1a3c0c8",
   "metadata": {},
   "outputs": [],
   "source": [
    "dupe_cases = historical_data[historical_data['IncidntNum'].duplicated()].copy()"
   ]
  },
  {
   "cell_type": "markdown",
   "id": "f93f5864-24fb-45c7-b22e-0cfb591debf8",
   "metadata": {},
   "source": [
    "Now we create a `list` or `array` (the numpy version of a list) of those unique PdId's:"
   ]
  },
  {
   "cell_type": "code",
   "execution_count": null,
   "id": "b4f2d51a-7716-4a45-93c1-668dc52fa586",
   "metadata": {},
   "outputs": [],
   "source": [
    "dupe_IncidentNum = dupe_cases['IncidntNum'].to_list()"
   ]
  },
  {
   "cell_type": "markdown",
   "id": "d31a4c89-5127-4088-b664-ccd11058cec1",
   "metadata": {},
   "source": [
    "Finally, we're displaying a subset our of original data that just includes the duplicate incident numbers:"
   ]
  },
  {
   "cell_type": "code",
   "execution_count": null,
   "id": "571f5a95-345e-450c-8375-aec69401cc14",
   "metadata": {},
   "outputs": [],
   "source": [
    "dupe_cases_full = historical_data[historical_data['IncidntNum'].isin(dupe_IncidentNum)].sort_values(by='IncidntNum')"
   ]
  },
  {
   "cell_type": "code",
   "execution_count": null,
   "id": "efc6069c-a291-4105-97a3-e233d5a51bc3",
   "metadata": {},
   "outputs": [],
   "source": [
    "dupe_cases_full.head(30)"
   ]
  },
  {
   "cell_type": "markdown",
   "id": "6adb019a-b276-481d-af0d-a808e91fc06a",
   "metadata": {},
   "source": [
    "We can see here anecdotely that additional entries for duplicated IncidentNum's include additional entries in the descript column in some cases, but sometimes they remain the same. \n",
    "#### come back to this!"
   ]
  },
  {
   "cell_type": "code",
   "execution_count": null,
   "id": "14c772fc-529b-4c80-9062-e68669cd22a1",
   "metadata": {},
   "outputs": [],
   "source": []
  },
  {
   "cell_type": "markdown",
   "id": "ccb98d08-c14e-4569-be25-860aa4783947",
   "metadata": {},
   "source": [
    "We're going to want to isolate our incidents that include marijuana crimes. So let's take a look at the unique values in the two columns that might contain information about marijuana crimes:"
   ]
  },
  {
   "cell_type": "code",
   "execution_count": null,
   "id": "2ff38e95-646e-4e38-a3a0-5ce90604ae53",
   "metadata": {},
   "outputs": [],
   "source": [
    "historical_data['Category'].unique()"
   ]
  },
  {
   "cell_type": "markdown",
   "id": "e8c23442-fe95-4f07-865c-d20a4ea85d69",
   "metadata": {},
   "source": [
    "We can see here that there's a DRUG/NARCOTIC category, so that's probably where we're going to find the marijuana crimes. But nothing specific about marijuana here. That's going to show up in our 'Descript' column. There's too many unique values in that column to list, so let's create a subset:"
   ]
  },
  {
   "cell_type": "code",
   "execution_count": null,
   "id": "c245b6ad-db43-4df9-bda5-d9018d9ff1dc",
   "metadata": {},
   "outputs": [],
   "source": [
    "#create dataframe with all our marijuana incidents\n",
    "\n",
    "historical_data_marijuana = historical_data[\n",
    "    historical_data['Descript'].str.contains('MARIJUANA')\n",
    "].copy()"
   ]
  },
  {
   "cell_type": "markdown",
   "id": "9b635017-1016-48a8-94d7-f8ecc529c3e2",
   "metadata": {},
   "source": [
    "## Soo meeting notes"
   ]
  },
  {
   "cell_type": "code",
   "execution_count": null,
   "id": "2b1482b5-28f8-47f4-9267-f8ca0f4c1332",
   "metadata": {},
   "outputs": [],
   "source": [
    "drug_narcotic_incidents = historical_data[\n",
    "    historical_data['Category'] == 'DRUG/NARCOTIC'\n",
    "].reset_index(drop=True)"
   ]
  },
  {
   "cell_type": "code",
   "execution_count": null,
   "id": "e444eee1-edaa-45c1-abb0-de0350470852",
   "metadata": {},
   "outputs": [],
   "source": [
    "# needed if I decide to answer my 'extra' question: Compare marijuana arrests to other types of crimes, like narcotics.\n",
    "\n",
    "drug_narcotic_incidents.to_csv('drug_narcotic_incidents_historical.csv', index=False)"
   ]
  },
  {
   "cell_type": "code",
   "execution_count": null,
   "id": "7e432f86-9e46-42bd-9fa0-f586c8d09b79",
   "metadata": {},
   "outputs": [],
   "source": [
    "drug_narcotic_incidents.head()"
   ]
  },
  {
   "cell_type": "code",
   "execution_count": null,
   "id": "0c70efd1-b3b3-4ae9-a756-5f4892e43ea6",
   "metadata": {},
   "outputs": [],
   "source": [
    "#how to isolate the marijuana duplicate incidentnum's\n",
    "historical_data[\n",
    "    historical_data['Descript'].str.contains('MARIJUANA') & historical_data['IncidntNum'].isin(dupe_IncidentNum)\n",
    "].sort_values(by='IncidntNum')"
   ]
  },
  {
   "cell_type": "code",
   "execution_count": null,
   "id": "5994bc7d-4f60-4e0f-99f4-d799e982fc51",
   "metadata": {},
   "outputs": [],
   "source": [
    "historical_data[historical_data['IncidntNum'] == \"000123436\"]"
   ]
  },
  {
   "cell_type": "code",
   "execution_count": null,
   "id": "cbaa61d2-397a-4959-a637-54367b0aeaba",
   "metadata": {},
   "outputs": [],
   "source": []
  },
  {
   "cell_type": "code",
   "execution_count": null,
   "id": "329b49ec-10e8-47d4-8eac-075d617c9a13",
   "metadata": {},
   "outputs": [],
   "source": [
    "#show info about the first row in the dataframe [iloc means index location]\n",
    "incident_duplicate.iloc[0]"
   ]
  },
  {
   "cell_type": "code",
   "execution_count": null,
   "id": "94b60989-8abc-41c8-acbe-c32b8615a7d6",
   "metadata": {},
   "outputs": [],
   "source": [
    "#what unique values are in this marijuana data frame for types of arrests\n",
    "historical_data_marijuana['Descript'].unique()"
   ]
  },
  {
   "cell_type": "code",
   "execution_count": null,
   "id": "c9f57801-b46f-47a5-93f6-e9758a81abc5",
   "metadata": {},
   "outputs": [],
   "source": [
    "#dropping duplicate incident numbers\n",
    "#going to need to write an explainer \n",
    "historical_data_marijuana[historical_data_marijuana['IncidntNum'].duplicated()]"
   ]
  },
  {
   "cell_type": "code",
   "execution_count": null,
   "id": "21628950-219c-4087-99e0-095b78f38cef",
   "metadata": {},
   "outputs": [],
   "source": [
    "historical_data_marijuana[historical_data_marijuana['IncidntNum'] == '160676737']"
   ]
  },
  {
   "cell_type": "code",
   "execution_count": null,
   "id": "6b27dfda-5f7f-4b4f-94a0-aca0f2b104dd",
   "metadata": {},
   "outputs": [],
   "source": [
    "# export the df to a csv\n",
    "historical_data_marijuana.to_csv(\"historical_data_marijuana.csv\", index=False)"
   ]
  },
  {
   "cell_type": "code",
   "execution_count": null,
   "id": "160632ce-5d48-49a3-b33f-035dc04740b3",
   "metadata": {},
   "outputs": [],
   "source": []
  },
  {
   "cell_type": "markdown",
   "id": "8d7d2aad-41b7-4517-8af4-e00848e3f34c",
   "metadata": {},
   "source": [
    "### Bring in the more recent dataset"
   ]
  },
  {
   "cell_type": "code",
   "execution_count": null,
   "id": "63441934-fb1c-4e37-8301-7bde14a0feea",
   "metadata": {},
   "outputs": [],
   "source": [
    "newer_data.columns"
   ]
  },
  {
   "cell_type": "code",
   "execution_count": null,
   "id": "c10965ac-4fa9-4c5c-a7e1-d8c71797637a",
   "metadata": {},
   "outputs": [],
   "source": [
    "historical_data.columns"
   ]
  },
  {
   "cell_type": "code",
   "execution_count": null,
   "id": "85322039-4840-4a0b-aab7-76ea11aa8564",
   "metadata": {
    "tags": []
   },
   "outputs": [],
   "source": [
    "# import csv into a variable\n",
    "newer_data = pd.read_csv('raw_data/SFPD_Incident_Reports_2018-10.14.21/Police_Department_Incident_Reports__2018_to_Present(1).csv', dtype=str)"
   ]
  },
  {
   "cell_type": "code",
   "execution_count": null,
   "id": "54dd3fae-d9b5-4c8c-b79e-d2a409d59b14",
   "metadata": {},
   "outputs": [],
   "source": [
    "historical_data['Resolution'].unique()"
   ]
  },
  {
   "cell_type": "code",
   "execution_count": null,
   "id": "a264d3ca-bbbe-4e09-ae1e-e9fb41b75ba1",
   "metadata": {},
   "outputs": [],
   "source": []
  }
 ],
 "metadata": {
  "kernelspec": {
   "display_name": "Python 3 (ipykernel)",
   "language": "python",
   "name": "python3"
  },
  "language_info": {
   "codemirror_mode": {
    "name": "ipython",
    "version": 3
   },
   "file_extension": ".py",
   "mimetype": "text/x-python",
   "name": "python",
   "nbconvert_exporter": "python",
   "pygments_lexer": "ipython3",
   "version": "3.8.5"
  }
 },
 "nbformat": 4,
 "nbformat_minor": 5
}
