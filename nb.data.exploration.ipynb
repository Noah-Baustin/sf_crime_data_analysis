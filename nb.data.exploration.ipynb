{
 "cells": [
  {
   "cell_type": "markdown",
   "id": "185b8ffa-40d5-4fc5-a875-f2b5ae7fb817",
   "metadata": {},
   "source": [
    "# Initial data exploration for my datasets"
   ]
  },
  {
   "cell_type": "markdown",
   "id": "7319c1f2-c5cd-439d-ad8f-a2f60c604e2a",
   "metadata": {},
   "source": [
    "# Note: this notebook is just for Noah's purposes and is not tidied up"
   ]
  },
  {
   "cell_type": "markdown",
   "id": "ebb158ab-d033-4181-a766-a2ee25eb2a6d",
   "metadata": {},
   "source": [
    "More information about this project is available in my github repo here: https://github.com/Noah-Baustin/sf_crime_data_analysis"
   ]
  },
  {
   "cell_type": "code",
   "execution_count": 2,
   "id": "49b3d7b4-8951-4481-ad73-4daae03f43f1",
   "metadata": {},
   "outputs": [
    {
     "name": "stderr",
     "output_type": "stream",
     "text": [
      "/Users/nbaustin/.pyenv/versions/3.8.5/envs/sf_crime_data_analysis-3.8.5/lib/python3.8/site-packages/pandas/compat/__init__.py:124: UserWarning: Could not import the lzma module. Your installed Python is incomplete. Attempting to use lzma compression will result in a RuntimeError.\n",
      "  warnings.warn(msg)\n"
     ]
    }
   ],
   "source": [
    "#import modules\n",
    "import pandas as pd\n",
    "#import altair as alt"
   ]
  },
  {
   "cell_type": "code",
   "execution_count": null,
   "id": "0b705a2c-a305-4ba0-bb4c-93fc4b720215",
   "metadata": {},
   "outputs": [],
   "source": [
    "# import csv into a variable\n",
    "historical_data = pd.read_csv('raw_data/SFPD_Incident_Reports_2003-May2018/Police_Department_Incident_Reports__Historical_2003_to_May_2018.csv', dtype=str)"
   ]
  },
  {
   "cell_type": "markdown",
   "id": "adeadd3c-dccd-4a40-8b48-dde885b61f20",
   "metadata": {},
   "source": [
    "Let's take a look at our data:"
   ]
  },
  {
   "cell_type": "code",
   "execution_count": null,
   "id": "47725120-6890-48ce-aafd-e3964a70f31d",
   "metadata": {},
   "outputs": [],
   "source": [
    "historical_data"
   ]
  },
  {
   "cell_type": "code",
   "execution_count": null,
   "id": "b726cf50-a4a6-4b8c-b168-bbd0a73ccf90",
   "metadata": {},
   "outputs": [],
   "source": [
    "historical_data.info()"
   ]
  },
  {
   "cell_type": "markdown",
   "id": "825c00c0-2206-49a6-9002-7d9bc4b079c1",
   "metadata": {},
   "source": [
    "I also see that I've got some date columns that need to be reformatted: for sure 'Date'. Let's reformat that:"
   ]
  },
  {
   "cell_type": "code",
   "execution_count": null,
   "id": "a543c31e-5056-4388-91f0-5b866e48d160",
   "metadata": {},
   "outputs": [],
   "source": [
    "historical_data['Date'] = pd.to_datetime(historical_data['Date'])"
   ]
  },
  {
   "cell_type": "code",
   "execution_count": null,
   "id": "1f5c0e44-7165-499f-ac20-f655133ec07e",
   "metadata": {},
   "outputs": [],
   "source": [
    "historical_data.head()"
   ]
  },
  {
   "cell_type": "markdown",
   "id": "5416ee13-b11e-40c7-b539-5f8002c5ff1a",
   "metadata": {},
   "source": [
    "Let's take a closer look at our columns:"
   ]
  },
  {
   "cell_type": "code",
   "execution_count": null,
   "id": "13e3c588-959b-46f8-98e6-c77bd9048ca8",
   "metadata": {},
   "outputs": [],
   "source": [
    "historical_data.columns"
   ]
  },
  {
   "cell_type": "markdown",
   "id": "14047d25-7f7a-4d36-af7d-89345539b7d8",
   "metadata": {},
   "source": [
    "We can see here that there's a bunch of extra columns in the data that's not included in the documentation and are not essential to our analysis. Let's get rid of those columns."
   ]
  },
  {
   "cell_type": "code",
   "execution_count": null,
   "id": "7cdf200a-d915-4572-8c23-ca3ec05098ae",
   "metadata": {},
   "outputs": [],
   "source": [
    "#get rid of all those extra columns we don't need\n",
    "\n",
    "historical_data = historical_data[['PdId', 'IncidntNum', 'Incident Code', 'Category', 'Descript',\n",
    "       'DayOfWeek', 'Date', 'Time', 'PdDistrict', 'Resolution', 'Address', 'X',\n",
    "       'Y', 'location']].copy()"
   ]
  },
  {
   "cell_type": "code",
   "execution_count": null,
   "id": "3d9a15bf-1243-4fa7-8d64-52ec396e261e",
   "metadata": {},
   "outputs": [],
   "source": [
    "historical_data.columns"
   ]
  },
  {
   "cell_type": "markdown",
   "id": "8b00fe74-e603-4470-a6e6-9df10d9a6bcb",
   "metadata": {},
   "source": [
    "Now that our columns are cleaned up and our dates are formatted correctly, let's take a look at our date range included in the data:"
   ]
  },
  {
   "cell_type": "code",
   "execution_count": null,
   "id": "09944adb-abb3-4dbb-bd09-23475d7759bb",
   "metadata": {},
   "outputs": [],
   "source": [
    "historical_data['Date'].min()"
   ]
  },
  {
   "cell_type": "code",
   "execution_count": null,
   "id": "a8f77c2a-9cc5-4d4f-a281-be409b06c657",
   "metadata": {},
   "outputs": [],
   "source": [
    "historical_data['Date'].max()"
   ]
  },
  {
   "cell_type": "markdown",
   "id": "0e2650a2-ab35-452d-bae2-1dbe005340c1",
   "metadata": {},
   "source": [
    "We can see here that it appears that we most likely have complete data beginning in 2003. BUT we see here that the 2018 data is incomplete, so if we want to do an annual analysis, we'll need to exclude 2018."
   ]
  },
  {
   "cell_type": "markdown",
   "id": "2d6029a8-8b2b-443b-878a-c7fcf538e238",
   "metadata": {},
   "source": [
    "We've got 2,129,525 entries. Let's check out our three different columns that have incident indentification codes to see how many unique values are in each:"
   ]
  },
  {
   "cell_type": "code",
   "execution_count": null,
   "id": "e302decb-2513-4f8b-ba88-fdaf469ee631",
   "metadata": {},
   "outputs": [],
   "source": [
    "historical_data['IncidntNum'].nunique()"
   ]
  },
  {
   "cell_type": "code",
   "execution_count": null,
   "id": "ac1be79b-50b7-4072-abf2-873964b99ce8",
   "metadata": {},
   "outputs": [],
   "source": [
    "historical_data['Incident Code'].nunique()"
   ]
  },
  {
   "cell_type": "code",
   "execution_count": null,
   "id": "468b178a-e7e4-4690-86dc-e5ebee8e30de",
   "metadata": {},
   "outputs": [],
   "source": [
    "historical_data['PdId'].nunique()"
   ]
  },
  {
   "cell_type": "markdown",
   "id": "385e2b40-0dba-4698-b7dc-f1e00640aaaf",
   "metadata": {},
   "source": [
    "Our documentation tells us that the PdId column is equivelant to the row_id column in the new data (see downloaded pdf titled: Change Notice - Police Incident Reports). And the documentation for the newer dataset tells us that the row_id is the unique identifier for each row. \n",
    "\n",
    "It's a good sign that there's exaclty as many PdId unique values as there are rows in the dataset.\n",
    "\n",
    "It also makes sense that there are duplicate values in the IncidntNum column. The IncidntNum refers to the case number. So if a supplemental report was filed after the incident was initially entered in this dataset, it would show up with a new PdId BUT the IncidntNum would be the same. \n",
    "\n",
    "But that does mean that I need to make sure I'm not counting the same incident multiple times if it shows up in this dataset multiple times. Most likely, my analysis will focus on a unique set of IncidntNum. "
   ]
  },
  {
   "cell_type": "markdown",
   "id": "83acbbc0-57b9-4b68-a46c-1aba44e8e3f3",
   "metadata": {},
   "source": [
    "Let's double check that there's no duplicate rows:"
   ]
  },
  {
   "cell_type": "code",
   "execution_count": null,
   "id": "e424d502-9813-409e-b85f-7ac6c878c9be",
   "metadata": {},
   "outputs": [],
   "source": [
    "historical_data[historical_data.duplicated()]"
   ]
  },
  {
   "cell_type": "markdown",
   "id": "e8b384db-b6e0-42ad-8be1-38c11130026d",
   "metadata": {},
   "source": [
    "No duplicate rows, that's great."
   ]
  },
  {
   "cell_type": "markdown",
   "id": "8c26c7b2-2404-49ad-a7ef-cf60fb5a08e5",
   "metadata": {},
   "source": [
    "Let's find out how many duplicated IncidntNum values we have:"
   ]
  },
  {
   "cell_type": "code",
   "execution_count": null,
   "id": "b71ebf4d-e3bb-49d3-9b81-3ebbc059c3bc",
   "metadata": {},
   "outputs": [],
   "source": [
    "historical_data[historical_data['IncidntNum'].duplicated()]"
   ]
  },
  {
   "cell_type": "code",
   "execution_count": null,
   "id": "a3976361-72f1-470c-9807-53d193e75db9",
   "metadata": {},
   "outputs": [],
   "source": [
    "historical_data['IncidntNum'].nunique() + len(historical_data[historical_data['IncidntNum'].duplicated()])"
   ]
  },
  {
   "cell_type": "markdown",
   "id": "12c19c65-7163-4a68-b241-c6c36f78a515",
   "metadata": {},
   "source": [
    "There's 425,899 duplicates for 'IncidntNum'. We we add that to the number of unique values (above) it is equal to the number of rows in our dataset... that tells us that 1,703,626 is the actual number of incidents that we're working with."
   ]
  },
  {
   "cell_type": "markdown",
   "id": "8a27d942-d5a7-4743-92f3-a748dc28caa8",
   "metadata": {},
   "source": [
    "#### NOTE: explain this step better b/c confusion in Soo meeting"
   ]
  },
  {
   "cell_type": "markdown",
   "id": "45238d80-f497-43a4-b6e5-ad635d42752b",
   "metadata": {},
   "source": [
    "Let's take a look at some of our duplicates:"
   ]
  },
  {
   "cell_type": "markdown",
   "id": "a9ad47e7-3180-4b31-b97a-1bf2d08fd629",
   "metadata": {},
   "source": [
    "First we'll create a dataframe with our duplicated cases:"
   ]
  },
  {
   "cell_type": "code",
   "execution_count": null,
   "id": "2521f6d6-d184-40cf-9f98-ab84e1a3c0c8",
   "metadata": {},
   "outputs": [],
   "source": [
    "dupe_cases = historical_data[historical_data['IncidntNum'].duplicated()].copy()"
   ]
  },
  {
   "cell_type": "markdown",
   "id": "f93f5864-24fb-45c7-b22e-0cfb591debf8",
   "metadata": {},
   "source": [
    "Now we create a `list` or `array` (the numpy version of a list) of those unique PdId's:"
   ]
  },
  {
   "cell_type": "code",
   "execution_count": null,
   "id": "b4f2d51a-7716-4a45-93c1-668dc52fa586",
   "metadata": {},
   "outputs": [],
   "source": [
    "dupe_IncidentNum = dupe_cases['IncidntNum'].to_list()"
   ]
  },
  {
   "cell_type": "markdown",
   "id": "d31a4c89-5127-4088-b664-ccd11058cec1",
   "metadata": {},
   "source": [
    "Finally, we're displaying a subset our of original data that just includes the duplicate incident numbers:"
   ]
  },
  {
   "cell_type": "code",
   "execution_count": null,
   "id": "571f5a95-345e-450c-8375-aec69401cc14",
   "metadata": {},
   "outputs": [],
   "source": [
    "dupe_cases_full = historical_data[historical_data['IncidntNum'].isin(dupe_IncidentNum)].sort_values(by='IncidntNum')"
   ]
  },
  {
   "cell_type": "code",
   "execution_count": null,
   "id": "efc6069c-a291-4105-97a3-e233d5a51bc3",
   "metadata": {},
   "outputs": [],
   "source": [
    "dupe_cases_full.head(30)"
   ]
  },
  {
   "cell_type": "markdown",
   "id": "6adb019a-b276-481d-af0d-a808e91fc06a",
   "metadata": {},
   "source": [
    "We can see here anecdotely that additional entries for duplicated IncidentNum's include additional entries in the descript column in some cases, but sometimes they remain the same. \n",
    "#### come back to this!"
   ]
  },
  {
   "cell_type": "code",
   "execution_count": null,
   "id": "14c772fc-529b-4c80-9062-e68669cd22a1",
   "metadata": {},
   "outputs": [],
   "source": []
  },
  {
   "cell_type": "markdown",
   "id": "ccb98d08-c14e-4569-be25-860aa4783947",
   "metadata": {},
   "source": [
    "We're going to want to isolate our incidents that include marijuana crimes. So let's take a look at the unique values in the two columns that might contain information about marijuana crimes:"
   ]
  },
  {
   "cell_type": "code",
   "execution_count": null,
   "id": "2ff38e95-646e-4e38-a3a0-5ce90604ae53",
   "metadata": {},
   "outputs": [],
   "source": [
    "historical_data['Category'].unique()"
   ]
  },
  {
   "cell_type": "markdown",
   "id": "e8c23442-fe95-4f07-865c-d20a4ea85d69",
   "metadata": {},
   "source": [
    "We can see here that there's a DRUG/NARCOTIC category, so that's probably where we're going to find the marijuana crimes. But nothing specific about marijuana here. That's going to show up in our 'Descript' column. There's too many unique values in that column to list, so let's create a subset:"
   ]
  },
  {
   "cell_type": "code",
   "execution_count": null,
   "id": "c245b6ad-db43-4df9-bda5-d9018d9ff1dc",
   "metadata": {},
   "outputs": [],
   "source": [
    "#create dataframe with all our marijuana incidents\n",
    "\n",
    "historical_data_marijuana = historical_data[\n",
    "    historical_data['Descript'].str.contains('MARIJUANA')\n",
    "].copy()"
   ]
  },
  {
   "cell_type": "markdown",
   "id": "9b635017-1016-48a8-94d7-f8ecc529c3e2",
   "metadata": {},
   "source": [
    "## Soo meeting notes"
   ]
  },
  {
   "cell_type": "code",
   "execution_count": null,
   "id": "2b1482b5-28f8-47f4-9267-f8ca0f4c1332",
   "metadata": {},
   "outputs": [],
   "source": [
    "drug_narcotic_incidents = historical_data[\n",
    "    historical_data['Category'] == 'DRUG/NARCOTIC'\n",
    "].reset_index(drop=True)"
   ]
  },
  {
   "cell_type": "code",
   "execution_count": null,
   "id": "e444eee1-edaa-45c1-abb0-de0350470852",
   "metadata": {},
   "outputs": [],
   "source": [
    "# needed if I decide to answer my 'extra' question: Compare marijuana arrests to other types of crimes, like narcotics.\n",
    "\n",
    "drug_narcotic_incidents.to_csv('drug_narcotic_incidents_historical.csv', index=False)"
   ]
  },
  {
   "cell_type": "code",
   "execution_count": null,
   "id": "7e432f86-9e46-42bd-9fa0-f586c8d09b79",
   "metadata": {},
   "outputs": [],
   "source": [
    "drug_narcotic_incidents.head()"
   ]
  },
  {
   "cell_type": "code",
   "execution_count": null,
   "id": "0c70efd1-b3b3-4ae9-a756-5f4892e43ea6",
   "metadata": {},
   "outputs": [],
   "source": [
    "#how to isolate the marijuana duplicate incidentnum's\n",
    "historical_data[\n",
    "    historical_data['Descript'].str.contains('MARIJUANA') & historical_data['IncidntNum'].isin(dupe_IncidentNum)\n",
    "].sort_values(by='IncidntNum')"
   ]
  },
  {
   "cell_type": "code",
   "execution_count": null,
   "id": "5994bc7d-4f60-4e0f-99f4-d799e982fc51",
   "metadata": {},
   "outputs": [],
   "source": [
    "historical_data[historical_data['IncidntNum'] == \"000123436\"]"
   ]
  },
  {
   "cell_type": "code",
   "execution_count": null,
   "id": "cbaa61d2-397a-4959-a637-54367b0aeaba",
   "metadata": {},
   "outputs": [],
   "source": []
  },
  {
   "cell_type": "code",
   "execution_count": null,
   "id": "329b49ec-10e8-47d4-8eac-075d617c9a13",
   "metadata": {},
   "outputs": [],
   "source": [
    "#show info about the first row in the dataframe [iloc means index location]\n",
    "incident_duplicate.iloc[0]"
   ]
  },
  {
   "cell_type": "code",
   "execution_count": null,
   "id": "94b60989-8abc-41c8-acbe-c32b8615a7d6",
   "metadata": {},
   "outputs": [],
   "source": [
    "#what unique values are in this marijuana data frame for types of arrests\n",
    "historical_data_marijuana['Descript'].unique()"
   ]
  },
  {
   "cell_type": "code",
   "execution_count": null,
   "id": "c9f57801-b46f-47a5-93f6-e9758a81abc5",
   "metadata": {},
   "outputs": [],
   "source": [
    "#dropping duplicate incident numbers\n",
    "#going to need to write an explainer \n",
    "historical_data_marijuana[historical_data_marijuana['IncidntNum'].duplicated()]"
   ]
  },
  {
   "cell_type": "code",
   "execution_count": null,
   "id": "21628950-219c-4087-99e0-095b78f38cef",
   "metadata": {},
   "outputs": [],
   "source": [
    "historical_data_marijuana[historical_data_marijuana['IncidntNum'] == '160676737']"
   ]
  },
  {
   "cell_type": "code",
   "execution_count": null,
   "id": "6b27dfda-5f7f-4b4f-94a0-aca0f2b104dd",
   "metadata": {},
   "outputs": [],
   "source": [
    "# export the df to a csv\n",
    "historical_data_marijuana.to_csv(\"historical_data_marijuana.csv\", index=False)"
   ]
  },
  {
   "cell_type": "code",
   "execution_count": null,
   "id": "160632ce-5d48-49a3-b33f-035dc04740b3",
   "metadata": {},
   "outputs": [],
   "source": []
  },
  {
   "cell_type": "markdown",
   "id": "8d7d2aad-41b7-4517-8af4-e00848e3f34c",
   "metadata": {},
   "source": [
    "### Bring in the more recent dataset"
   ]
  },
  {
   "cell_type": "code",
   "execution_count": null,
   "id": "63441934-fb1c-4e37-8301-7bde14a0feea",
   "metadata": {},
   "outputs": [],
   "source": [
    "newer_data.columns"
   ]
  },
  {
   "cell_type": "code",
   "execution_count": null,
   "id": "c10965ac-4fa9-4c5c-a7e1-d8c71797637a",
   "metadata": {},
   "outputs": [],
   "source": [
    "historical_data.columns"
   ]
  },
  {
   "cell_type": "code",
   "execution_count": 3,
   "id": "85322039-4840-4a0b-aab7-76ea11aa8564",
   "metadata": {
    "tags": []
   },
   "outputs": [],
   "source": [
    "# import csv into a variable\n",
    "newer_data = pd.read_csv('raw_data/SFPD_Incident_Reports_2018-10.14.21/Police_Department_Incident_Reports__2018_to_Present(1).csv', dtype=str)"
   ]
  },
  {
   "cell_type": "code",
   "execution_count": null,
   "id": "54dd3fae-d9b5-4c8c-b79e-d2a409d59b14",
   "metadata": {},
   "outputs": [],
   "source": [
    "historical_data['Resolution'].unique()"
   ]
  },
  {
   "cell_type": "code",
   "execution_count": 4,
   "id": "a264d3ca-bbbe-4e09-ae1e-e9fb41b75ba1",
   "metadata": {},
   "outputs": [
    {
     "data": {
      "text/plain": [
       "Index(['Incident Datetime', 'Incident Date', 'Incident Time', 'Incident Year',\n",
       "       'Incident Day of Week', 'Report Datetime', 'Row ID', 'Incident ID',\n",
       "       'Incident Number', 'CAD Number', 'Report Type Code',\n",
       "       'Report Type Description', 'Filed Online', 'Incident Code',\n",
       "       'Incident Category', 'Incident Subcategory', 'Incident Description',\n",
       "       'Resolution', 'Intersection', 'CNN', 'Police District',\n",
       "       'Analysis Neighborhood', 'Supervisor District', 'Latitude', 'Longitude',\n",
       "       'Point', 'Neighborhoods', 'ESNCAG - Boundary File',\n",
       "       'Central Market/Tenderloin Boundary Polygon - Updated',\n",
       "       'Civic Center Harm Reduction Project Boundary',\n",
       "       'HSOC Zones as of 2018-06-05', 'Invest In Neighborhoods (IIN) Areas',\n",
       "       'Current Supervisor Districts', 'Current Police Districts'],\n",
       "      dtype='object')"
      ]
     },
     "execution_count": 4,
     "metadata": {},
     "output_type": "execute_result"
    }
   ],
   "source": [
    "newer_data.columns"
   ]
  },
  {
   "cell_type": "code",
   "execution_count": 54,
   "id": "300c05f0-45a4-49ec-892b-935254acf73b",
   "metadata": {},
   "outputs": [],
   "source": [
    "newer_data['Incident Description'] = newer_data['Incident Description'].str.upper()"
   ]
  },
  {
   "cell_type": "markdown",
   "id": "47fd65fc-7eae-4a21-97e4-82c70c18cb30",
   "metadata": {},
   "source": [
    "Now we need to figure out where the marijuana cases are organized in the newer dataset"
   ]
  },
  {
   "cell_type": "code",
   "execution_count": 55,
   "id": "960f62c0-6a28-488c-b6cc-a541a62341f6",
   "metadata": {},
   "outputs": [],
   "source": [
    "find_marijuana_1 = newer_data[\n",
    "    newer_data['Incident Description'].str.contains('MARIJUANA')\n",
    "].reset_index(drop=True)"
   ]
  },
  {
   "cell_type": "code",
   "execution_count": 56,
   "id": "54aa2f70-e2c6-456a-92ba-bd65689c9112",
   "metadata": {},
   "outputs": [
    {
     "data": {
      "text/html": [
       "<div>\n",
       "<style scoped>\n",
       "    .dataframe tbody tr th:only-of-type {\n",
       "        vertical-align: middle;\n",
       "    }\n",
       "\n",
       "    .dataframe tbody tr th {\n",
       "        vertical-align: top;\n",
       "    }\n",
       "\n",
       "    .dataframe thead th {\n",
       "        text-align: right;\n",
       "    }\n",
       "</style>\n",
       "<table border=\"1\" class=\"dataframe\">\n",
       "  <thead>\n",
       "    <tr style=\"text-align: right;\">\n",
       "      <th></th>\n",
       "      <th>Incident Datetime</th>\n",
       "      <th>Incident Date</th>\n",
       "      <th>Incident Time</th>\n",
       "      <th>Incident Year</th>\n",
       "      <th>Incident Day of Week</th>\n",
       "      <th>Report Datetime</th>\n",
       "      <th>Row ID</th>\n",
       "      <th>Incident ID</th>\n",
       "      <th>Incident Number</th>\n",
       "      <th>CAD Number</th>\n",
       "      <th>...</th>\n",
       "      <th>Longitude</th>\n",
       "      <th>Point</th>\n",
       "      <th>Neighborhoods</th>\n",
       "      <th>ESNCAG - Boundary File</th>\n",
       "      <th>Central Market/Tenderloin Boundary Polygon - Updated</th>\n",
       "      <th>Civic Center Harm Reduction Project Boundary</th>\n",
       "      <th>HSOC Zones as of 2018-06-05</th>\n",
       "      <th>Invest In Neighborhoods (IIN) Areas</th>\n",
       "      <th>Current Supervisor Districts</th>\n",
       "      <th>Current Police Districts</th>\n",
       "    </tr>\n",
       "  </thead>\n",
       "  <tbody>\n",
       "    <tr>\n",
       "      <th>0</th>\n",
       "      <td>2021/04/21 09:22:00 AM</td>\n",
       "      <td>2021/04/21</td>\n",
       "      <td>09:22</td>\n",
       "      <td>2021</td>\n",
       "      <td>Wednesday</td>\n",
       "      <td>2021/04/21 09:55:00 AM</td>\n",
       "      <td>103250716010</td>\n",
       "      <td>1032507</td>\n",
       "      <td>210259178</td>\n",
       "      <td>210259178</td>\n",
       "      <td>...</td>\n",
       "      <td>-122.40851633190513</td>\n",
       "      <td>POINT (-122.40851633190513 37.77375969975922)</td>\n",
       "      <td>32</td>\n",
       "      <td>NaN</td>\n",
       "      <td>NaN</td>\n",
       "      <td>NaN</td>\n",
       "      <td>NaN</td>\n",
       "      <td>NaN</td>\n",
       "      <td>10</td>\n",
       "      <td>1</td>\n",
       "    </tr>\n",
       "    <tr>\n",
       "      <th>1</th>\n",
       "      <td>2021/10/08 12:42:00 PM</td>\n",
       "      <td>2021/10/08</td>\n",
       "      <td>12:42</td>\n",
       "      <td>2021</td>\n",
       "      <td>Friday</td>\n",
       "      <td>2021/10/08 12:43:00 PM</td>\n",
       "      <td>107857316010</td>\n",
       "      <td>1078573</td>\n",
       "      <td>210656643</td>\n",
       "      <td>212811587</td>\n",
       "      <td>...</td>\n",
       "      <td>-122.40667700592424</td>\n",
       "      <td>POINT (-122.40667700592424 37.767142180962104)</td>\n",
       "      <td>33</td>\n",
       "      <td>NaN</td>\n",
       "      <td>NaN</td>\n",
       "      <td>NaN</td>\n",
       "      <td>2</td>\n",
       "      <td>NaN</td>\n",
       "      <td>9</td>\n",
       "      <td>3</td>\n",
       "    </tr>\n",
       "    <tr>\n",
       "      <th>2</th>\n",
       "      <td>2021/10/09 12:26:00 PM</td>\n",
       "      <td>2021/10/09</td>\n",
       "      <td>12:26</td>\n",
       "      <td>2021</td>\n",
       "      <td>Saturday</td>\n",
       "      <td>2021/10/09 12:26:00 PM</td>\n",
       "      <td>107886216030</td>\n",
       "      <td>1078862</td>\n",
       "      <td>210658815</td>\n",
       "      <td>212821487</td>\n",
       "      <td>...</td>\n",
       "      <td>-122.38717421937969</td>\n",
       "      <td>POINT (-122.38717421937969 37.74615712680034)</td>\n",
       "      <td>56</td>\n",
       "      <td>NaN</td>\n",
       "      <td>NaN</td>\n",
       "      <td>NaN</td>\n",
       "      <td>NaN</td>\n",
       "      <td>NaN</td>\n",
       "      <td>9</td>\n",
       "      <td>2</td>\n",
       "    </tr>\n",
       "    <tr>\n",
       "      <th>3</th>\n",
       "      <td>2021/06/05 11:07:00 AM</td>\n",
       "      <td>2021/06/05</td>\n",
       "      <td>11:07</td>\n",
       "      <td>2021</td>\n",
       "      <td>Saturday</td>\n",
       "      <td>2021/06/05 11:07:00 AM</td>\n",
       "      <td>103724316030</td>\n",
       "      <td>1037243</td>\n",
       "      <td>210348549</td>\n",
       "      <td>211561131</td>\n",
       "      <td>...</td>\n",
       "      <td>-122.42353498869593</td>\n",
       "      <td>POINT (-122.42353498869593 37.77223581387494)</td>\n",
       "      <td>26</td>\n",
       "      <td>NaN</td>\n",
       "      <td>NaN</td>\n",
       "      <td>NaN</td>\n",
       "      <td>NaN</td>\n",
       "      <td>NaN</td>\n",
       "      <td>11</td>\n",
       "      <td>4</td>\n",
       "    </tr>\n",
       "    <tr>\n",
       "      <th>4</th>\n",
       "      <td>2021/07/07 10:01:00 PM</td>\n",
       "      <td>2021/07/07</td>\n",
       "      <td>22:01</td>\n",
       "      <td>2021</td>\n",
       "      <td>Wednesday</td>\n",
       "      <td>2021/07/07 10:01:00 PM</td>\n",
       "      <td>104811216030</td>\n",
       "      <td>1048112</td>\n",
       "      <td>210428470</td>\n",
       "      <td>211883301</td>\n",
       "      <td>...</td>\n",
       "      <td>-122.44331168934727</td>\n",
       "      <td>POINT (-122.44331168934727 37.77046953691186)</td>\n",
       "      <td>112</td>\n",
       "      <td>NaN</td>\n",
       "      <td>NaN</td>\n",
       "      <td>NaN</td>\n",
       "      <td>NaN</td>\n",
       "      <td>NaN</td>\n",
       "      <td>5</td>\n",
       "      <td>7</td>\n",
       "    </tr>\n",
       "    <tr>\n",
       "      <th>...</th>\n",
       "      <td>...</td>\n",
       "      <td>...</td>\n",
       "      <td>...</td>\n",
       "      <td>...</td>\n",
       "      <td>...</td>\n",
       "      <td>...</td>\n",
       "      <td>...</td>\n",
       "      <td>...</td>\n",
       "      <td>...</td>\n",
       "      <td>...</td>\n",
       "      <td>...</td>\n",
       "      <td>...</td>\n",
       "      <td>...</td>\n",
       "      <td>...</td>\n",
       "      <td>...</td>\n",
       "      <td>...</td>\n",
       "      <td>...</td>\n",
       "      <td>...</td>\n",
       "      <td>...</td>\n",
       "      <td>...</td>\n",
       "      <td>...</td>\n",
       "    </tr>\n",
       "    <tr>\n",
       "      <th>532</th>\n",
       "      <td>2020/09/02 04:28:00 PM</td>\n",
       "      <td>2020/09/02</td>\n",
       "      <td>16:28</td>\n",
       "      <td>2020</td>\n",
       "      <td>Wednesday</td>\n",
       "      <td>2020/09/02 04:28:00 PM</td>\n",
       "      <td>95820816010</td>\n",
       "      <td>958208</td>\n",
       "      <td>200528905</td>\n",
       "      <td>202462307</td>\n",
       "      <td>...</td>\n",
       "      <td>-122.43129384491388</td>\n",
       "      <td>POINT (-122.43129384491388 37.72872954740928)</td>\n",
       "      <td>94</td>\n",
       "      <td>NaN</td>\n",
       "      <td>NaN</td>\n",
       "      <td>NaN</td>\n",
       "      <td>NaN</td>\n",
       "      <td>NaN</td>\n",
       "      <td>1</td>\n",
       "      <td>9</td>\n",
       "    </tr>\n",
       "    <tr>\n",
       "      <th>533</th>\n",
       "      <td>2020/10/22 08:47:00 AM</td>\n",
       "      <td>2020/10/22</td>\n",
       "      <td>08:47</td>\n",
       "      <td>2020</td>\n",
       "      <td>Thursday</td>\n",
       "      <td>2020/10/22 02:42:00 PM</td>\n",
       "      <td>97176416030</td>\n",
       "      <td>971764</td>\n",
       "      <td>200638140</td>\n",
       "      <td>202961857</td>\n",
       "      <td>...</td>\n",
       "      <td>-122.5040487777567</td>\n",
       "      <td>POINT (-122.5040487777567 37.76426117163131)</td>\n",
       "      <td>39</td>\n",
       "      <td>NaN</td>\n",
       "      <td>NaN</td>\n",
       "      <td>NaN</td>\n",
       "      <td>NaN</td>\n",
       "      <td>NaN</td>\n",
       "      <td>4</td>\n",
       "      <td>10</td>\n",
       "    </tr>\n",
       "    <tr>\n",
       "      <th>534</th>\n",
       "      <td>2021/01/19 03:13:00 AM</td>\n",
       "      <td>2021/01/19</td>\n",
       "      <td>03:13</td>\n",
       "      <td>2021</td>\n",
       "      <td>Tuesday</td>\n",
       "      <td>2021/01/19 03:13:00 AM</td>\n",
       "      <td>99731116030</td>\n",
       "      <td>997311</td>\n",
       "      <td>210041141</td>\n",
       "      <td>210190283</td>\n",
       "      <td>...</td>\n",
       "      <td>-122.41811812009416</td>\n",
       "      <td>POINT (-122.41811812009416 37.7603010605011)</td>\n",
       "      <td>53</td>\n",
       "      <td>NaN</td>\n",
       "      <td>NaN</td>\n",
       "      <td>NaN</td>\n",
       "      <td>3</td>\n",
       "      <td>NaN</td>\n",
       "      <td>2</td>\n",
       "      <td>3</td>\n",
       "    </tr>\n",
       "    <tr>\n",
       "      <th>535</th>\n",
       "      <td>2021/01/17 10:05:00 AM</td>\n",
       "      <td>2021/01/17</td>\n",
       "      <td>10:05</td>\n",
       "      <td>2021</td>\n",
       "      <td>Sunday</td>\n",
       "      <td>2021/01/17 10:05:00 AM</td>\n",
       "      <td>99688016030</td>\n",
       "      <td>996880</td>\n",
       "      <td>210037532</td>\n",
       "      <td>210170877</td>\n",
       "      <td>...</td>\n",
       "      <td>-122.42746205880601</td>\n",
       "      <td>POINT (-122.42746205880601 37.76877049785351)</td>\n",
       "      <td>28</td>\n",
       "      <td>NaN</td>\n",
       "      <td>NaN</td>\n",
       "      <td>NaN</td>\n",
       "      <td>5</td>\n",
       "      <td>NaN</td>\n",
       "      <td>5</td>\n",
       "      <td>3</td>\n",
       "    </tr>\n",
       "    <tr>\n",
       "      <th>536</th>\n",
       "      <td>2020/05/21 12:08:00 AM</td>\n",
       "      <td>2020/05/21</td>\n",
       "      <td>00:08</td>\n",
       "      <td>2020</td>\n",
       "      <td>Thursday</td>\n",
       "      <td>2020/05/21 12:08:00 AM</td>\n",
       "      <td>92864616030</td>\n",
       "      <td>928646</td>\n",
       "      <td>200308092</td>\n",
       "      <td>201420020</td>\n",
       "      <td>...</td>\n",
       "      <td>-122.41561643757444</td>\n",
       "      <td>POINT (-122.41561643757444 37.80727586975037)</td>\n",
       "      <td>99</td>\n",
       "      <td>NaN</td>\n",
       "      <td>NaN</td>\n",
       "      <td>NaN</td>\n",
       "      <td>NaN</td>\n",
       "      <td>NaN</td>\n",
       "      <td>3</td>\n",
       "      <td>6</td>\n",
       "    </tr>\n",
       "  </tbody>\n",
       "</table>\n",
       "<p>537 rows × 34 columns</p>\n",
       "</div>"
      ],
      "text/plain": [
       "          Incident Datetime Incident Date Incident Time Incident Year  \\\n",
       "0    2021/04/21 09:22:00 AM    2021/04/21         09:22          2021   \n",
       "1    2021/10/08 12:42:00 PM    2021/10/08         12:42          2021   \n",
       "2    2021/10/09 12:26:00 PM    2021/10/09         12:26          2021   \n",
       "3    2021/06/05 11:07:00 AM    2021/06/05         11:07          2021   \n",
       "4    2021/07/07 10:01:00 PM    2021/07/07         22:01          2021   \n",
       "..                      ...           ...           ...           ...   \n",
       "532  2020/09/02 04:28:00 PM    2020/09/02         16:28          2020   \n",
       "533  2020/10/22 08:47:00 AM    2020/10/22         08:47          2020   \n",
       "534  2021/01/19 03:13:00 AM    2021/01/19         03:13          2021   \n",
       "535  2021/01/17 10:05:00 AM    2021/01/17         10:05          2021   \n",
       "536  2020/05/21 12:08:00 AM    2020/05/21         00:08          2020   \n",
       "\n",
       "    Incident Day of Week         Report Datetime        Row ID Incident ID  \\\n",
       "0              Wednesday  2021/04/21 09:55:00 AM  103250716010     1032507   \n",
       "1                 Friday  2021/10/08 12:43:00 PM  107857316010     1078573   \n",
       "2               Saturday  2021/10/09 12:26:00 PM  107886216030     1078862   \n",
       "3               Saturday  2021/06/05 11:07:00 AM  103724316030     1037243   \n",
       "4              Wednesday  2021/07/07 10:01:00 PM  104811216030     1048112   \n",
       "..                   ...                     ...           ...         ...   \n",
       "532            Wednesday  2020/09/02 04:28:00 PM   95820816010      958208   \n",
       "533             Thursday  2020/10/22 02:42:00 PM   97176416030      971764   \n",
       "534              Tuesday  2021/01/19 03:13:00 AM   99731116030      997311   \n",
       "535               Sunday  2021/01/17 10:05:00 AM   99688016030      996880   \n",
       "536             Thursday  2020/05/21 12:08:00 AM   92864616030      928646   \n",
       "\n",
       "    Incident Number CAD Number  ...            Longitude  \\\n",
       "0         210259178  210259178  ...  -122.40851633190513   \n",
       "1         210656643  212811587  ...  -122.40667700592424   \n",
       "2         210658815  212821487  ...  -122.38717421937969   \n",
       "3         210348549  211561131  ...  -122.42353498869593   \n",
       "4         210428470  211883301  ...  -122.44331168934727   \n",
       "..              ...        ...  ...                  ...   \n",
       "532       200528905  202462307  ...  -122.43129384491388   \n",
       "533       200638140  202961857  ...   -122.5040487777567   \n",
       "534       210041141  210190283  ...  -122.41811812009416   \n",
       "535       210037532  210170877  ...  -122.42746205880601   \n",
       "536       200308092  201420020  ...  -122.41561643757444   \n",
       "\n",
       "                                              Point Neighborhoods  \\\n",
       "0     POINT (-122.40851633190513 37.77375969975922)            32   \n",
       "1    POINT (-122.40667700592424 37.767142180962104)            33   \n",
       "2     POINT (-122.38717421937969 37.74615712680034)            56   \n",
       "3     POINT (-122.42353498869593 37.77223581387494)            26   \n",
       "4     POINT (-122.44331168934727 37.77046953691186)           112   \n",
       "..                                              ...           ...   \n",
       "532   POINT (-122.43129384491388 37.72872954740928)            94   \n",
       "533    POINT (-122.5040487777567 37.76426117163131)            39   \n",
       "534    POINT (-122.41811812009416 37.7603010605011)            53   \n",
       "535   POINT (-122.42746205880601 37.76877049785351)            28   \n",
       "536   POINT (-122.41561643757444 37.80727586975037)            99   \n",
       "\n",
       "    ESNCAG - Boundary File  \\\n",
       "0                      NaN   \n",
       "1                      NaN   \n",
       "2                      NaN   \n",
       "3                      NaN   \n",
       "4                      NaN   \n",
       "..                     ...   \n",
       "532                    NaN   \n",
       "533                    NaN   \n",
       "534                    NaN   \n",
       "535                    NaN   \n",
       "536                    NaN   \n",
       "\n",
       "    Central Market/Tenderloin Boundary Polygon - Updated  \\\n",
       "0                                                  NaN     \n",
       "1                                                  NaN     \n",
       "2                                                  NaN     \n",
       "3                                                  NaN     \n",
       "4                                                  NaN     \n",
       "..                                                 ...     \n",
       "532                                                NaN     \n",
       "533                                                NaN     \n",
       "534                                                NaN     \n",
       "535                                                NaN     \n",
       "536                                                NaN     \n",
       "\n",
       "    Civic Center Harm Reduction Project Boundary HSOC Zones as of 2018-06-05  \\\n",
       "0                                            NaN                         NaN   \n",
       "1                                            NaN                           2   \n",
       "2                                            NaN                         NaN   \n",
       "3                                            NaN                         NaN   \n",
       "4                                            NaN                         NaN   \n",
       "..                                           ...                         ...   \n",
       "532                                          NaN                         NaN   \n",
       "533                                          NaN                         NaN   \n",
       "534                                          NaN                           3   \n",
       "535                                          NaN                           5   \n",
       "536                                          NaN                         NaN   \n",
       "\n",
       "    Invest In Neighborhoods (IIN) Areas Current Supervisor Districts  \\\n",
       "0                                   NaN                           10   \n",
       "1                                   NaN                            9   \n",
       "2                                   NaN                            9   \n",
       "3                                   NaN                           11   \n",
       "4                                   NaN                            5   \n",
       "..                                  ...                          ...   \n",
       "532                                 NaN                            1   \n",
       "533                                 NaN                            4   \n",
       "534                                 NaN                            2   \n",
       "535                                 NaN                            5   \n",
       "536                                 NaN                            3   \n",
       "\n",
       "    Current Police Districts  \n",
       "0                          1  \n",
       "1                          3  \n",
       "2                          2  \n",
       "3                          4  \n",
       "4                          7  \n",
       "..                       ...  \n",
       "532                        9  \n",
       "533                       10  \n",
       "534                        3  \n",
       "535                        3  \n",
       "536                        6  \n",
       "\n",
       "[537 rows x 34 columns]"
      ]
     },
     "execution_count": 56,
     "metadata": {},
     "output_type": "execute_result"
    }
   ],
   "source": [
    "find_marijuana_1"
   ]
  },
  {
   "cell_type": "code",
   "execution_count": 58,
   "id": "b3799256-ef6b-4e24-a89b-cbcc2b5a61b4",
   "metadata": {},
   "outputs": [
    {
     "data": {
      "text/plain": [
       "array(['MARIJUANA OFFENSE', 'MARIJUANA, POSSESSION FOR SALE',\n",
       "       'MARIJUANA, SALES', 'MARIJUANA, CULTIVATING/PLANTING',\n",
       "       'MARIJUANA, FURNISHING', 'MARIJUANA, TRANSPORTING'], dtype=object)"
      ]
     },
     "execution_count": 58,
     "metadata": {},
     "output_type": "execute_result"
    }
   ],
   "source": [
    "find_marijuana_1['Incident Description'].unique()"
   ]
  },
  {
   "cell_type": "markdown",
   "id": "82239e58-0a0f-47a8-8911-739e0f68f627",
   "metadata": {},
   "source": [
    "Unfortunately this shows us that the Incident Description column does not contain information categorizing crimes by the term 'marijuana', unlike the older data."
   ]
  },
  {
   "cell_type": "code",
   "execution_count": 18,
   "id": "d96a7ba2-eba3-4599-bdfa-39bd58f573c4",
   "metadata": {
    "tags": []
   },
   "outputs": [],
   "source": [
    "find_marijuana_2 = newer_data[\n",
    "    newer_data['Incident Subcategory'].str.contains('MARIJUANA', na=False)\n",
    "].reset_index(drop=True)"
   ]
  },
  {
   "cell_type": "code",
   "execution_count": 19,
   "id": "cca318b9-6930-4ada-9a27-5d5eec0de10e",
   "metadata": {},
   "outputs": [
    {
     "data": {
      "text/html": [
       "<div>\n",
       "<style scoped>\n",
       "    .dataframe tbody tr th:only-of-type {\n",
       "        vertical-align: middle;\n",
       "    }\n",
       "\n",
       "    .dataframe tbody tr th {\n",
       "        vertical-align: top;\n",
       "    }\n",
       "\n",
       "    .dataframe thead th {\n",
       "        text-align: right;\n",
       "    }\n",
       "</style>\n",
       "<table border=\"1\" class=\"dataframe\">\n",
       "  <thead>\n",
       "    <tr style=\"text-align: right;\">\n",
       "      <th></th>\n",
       "      <th>Incident Datetime</th>\n",
       "      <th>Incident Date</th>\n",
       "      <th>Incident Time</th>\n",
       "      <th>Incident Year</th>\n",
       "      <th>Incident Day of Week</th>\n",
       "      <th>Report Datetime</th>\n",
       "      <th>Row ID</th>\n",
       "      <th>Incident ID</th>\n",
       "      <th>Incident Number</th>\n",
       "      <th>CAD Number</th>\n",
       "      <th>...</th>\n",
       "      <th>Longitude</th>\n",
       "      <th>Point</th>\n",
       "      <th>Neighborhoods</th>\n",
       "      <th>ESNCAG - Boundary File</th>\n",
       "      <th>Central Market/Tenderloin Boundary Polygon - Updated</th>\n",
       "      <th>Civic Center Harm Reduction Project Boundary</th>\n",
       "      <th>HSOC Zones as of 2018-06-05</th>\n",
       "      <th>Invest In Neighborhoods (IIN) Areas</th>\n",
       "      <th>Current Supervisor Districts</th>\n",
       "      <th>Current Police Districts</th>\n",
       "    </tr>\n",
       "  </thead>\n",
       "  <tbody>\n",
       "  </tbody>\n",
       "</table>\n",
       "<p>0 rows × 34 columns</p>\n",
       "</div>"
      ],
      "text/plain": [
       "Empty DataFrame\n",
       "Columns: [Incident Datetime, Incident Date, Incident Time, Incident Year, Incident Day of Week, Report Datetime, Row ID, Incident ID, Incident Number, CAD Number, Report Type Code, Report Type Description, Filed Online, Incident Code, Incident Category, Incident Subcategory, Incident Description, Resolution, Intersection, CNN, Police District, Analysis Neighborhood, Supervisor District, Latitude, Longitude, Point, Neighborhoods, ESNCAG - Boundary File, Central Market/Tenderloin Boundary Polygon - Updated, Civic Center Harm Reduction Project Boundary, HSOC Zones as of 2018-06-05, Invest In Neighborhoods (IIN) Areas, Current Supervisor Districts, Current Police Districts]\n",
       "Index: []\n",
       "\n",
       "[0 rows x 34 columns]"
      ]
     },
     "execution_count": 19,
     "metadata": {},
     "output_type": "execute_result"
    }
   ],
   "source": [
    "find_marijuana_2"
   ]
  },
  {
   "cell_type": "markdown",
   "id": "ace2fcd3-4efd-4834-b9e0-65fe966e442e",
   "metadata": {},
   "source": [
    "No marijuana strings in the incident subcategory either."
   ]
  },
  {
   "cell_type": "code",
   "execution_count": 20,
   "id": "fecd0173-9441-41a5-a75d-1598af6c47e2",
   "metadata": {},
   "outputs": [],
   "source": [
    "find_marijuana_3 = newer_data[\n",
    "    newer_data['Incident Category'].str.contains('MARIJUANA', na=False)\n",
    "].reset_index(drop=True)"
   ]
  },
  {
   "cell_type": "code",
   "execution_count": 21,
   "id": "da093d5a-238f-4b90-8da8-cebd27c3bf78",
   "metadata": {},
   "outputs": [
    {
     "data": {
      "text/html": [
       "<div>\n",
       "<style scoped>\n",
       "    .dataframe tbody tr th:only-of-type {\n",
       "        vertical-align: middle;\n",
       "    }\n",
       "\n",
       "    .dataframe tbody tr th {\n",
       "        vertical-align: top;\n",
       "    }\n",
       "\n",
       "    .dataframe thead th {\n",
       "        text-align: right;\n",
       "    }\n",
       "</style>\n",
       "<table border=\"1\" class=\"dataframe\">\n",
       "  <thead>\n",
       "    <tr style=\"text-align: right;\">\n",
       "      <th></th>\n",
       "      <th>Incident Datetime</th>\n",
       "      <th>Incident Date</th>\n",
       "      <th>Incident Time</th>\n",
       "      <th>Incident Year</th>\n",
       "      <th>Incident Day of Week</th>\n",
       "      <th>Report Datetime</th>\n",
       "      <th>Row ID</th>\n",
       "      <th>Incident ID</th>\n",
       "      <th>Incident Number</th>\n",
       "      <th>CAD Number</th>\n",
       "      <th>...</th>\n",
       "      <th>Longitude</th>\n",
       "      <th>Point</th>\n",
       "      <th>Neighborhoods</th>\n",
       "      <th>ESNCAG - Boundary File</th>\n",
       "      <th>Central Market/Tenderloin Boundary Polygon - Updated</th>\n",
       "      <th>Civic Center Harm Reduction Project Boundary</th>\n",
       "      <th>HSOC Zones as of 2018-06-05</th>\n",
       "      <th>Invest In Neighborhoods (IIN) Areas</th>\n",
       "      <th>Current Supervisor Districts</th>\n",
       "      <th>Current Police Districts</th>\n",
       "    </tr>\n",
       "  </thead>\n",
       "  <tbody>\n",
       "  </tbody>\n",
       "</table>\n",
       "<p>0 rows × 34 columns</p>\n",
       "</div>"
      ],
      "text/plain": [
       "Empty DataFrame\n",
       "Columns: [Incident Datetime, Incident Date, Incident Time, Incident Year, Incident Day of Week, Report Datetime, Row ID, Incident ID, Incident Number, CAD Number, Report Type Code, Report Type Description, Filed Online, Incident Code, Incident Category, Incident Subcategory, Incident Description, Resolution, Intersection, CNN, Police District, Analysis Neighborhood, Supervisor District, Latitude, Longitude, Point, Neighborhoods, ESNCAG - Boundary File, Central Market/Tenderloin Boundary Polygon - Updated, Civic Center Harm Reduction Project Boundary, HSOC Zones as of 2018-06-05, Invest In Neighborhoods (IIN) Areas, Current Supervisor Districts, Current Police Districts]\n",
       "Index: []\n",
       "\n",
       "[0 rows x 34 columns]"
      ]
     },
     "execution_count": 21,
     "metadata": {},
     "output_type": "execute_result"
    }
   ],
   "source": [
    "find_marijuana_3"
   ]
  },
  {
   "cell_type": "code",
   "execution_count": 22,
   "id": "185a912f-cb19-47a4-89b9-aeb0fb154dc4",
   "metadata": {},
   "outputs": [],
   "source": [
    "find_marijuana_4 = newer_data[\n",
    "    newer_data['Report Type Description'].str.contains('MARIJUANA', na=False)\n",
    "].reset_index(drop=True)"
   ]
  },
  {
   "cell_type": "code",
   "execution_count": 23,
   "id": "b1ee9a0b-9e58-457a-a4bf-d34521952ef8",
   "metadata": {},
   "outputs": [
    {
     "data": {
      "text/html": [
       "<div>\n",
       "<style scoped>\n",
       "    .dataframe tbody tr th:only-of-type {\n",
       "        vertical-align: middle;\n",
       "    }\n",
       "\n",
       "    .dataframe tbody tr th {\n",
       "        vertical-align: top;\n",
       "    }\n",
       "\n",
       "    .dataframe thead th {\n",
       "        text-align: right;\n",
       "    }\n",
       "</style>\n",
       "<table border=\"1\" class=\"dataframe\">\n",
       "  <thead>\n",
       "    <tr style=\"text-align: right;\">\n",
       "      <th></th>\n",
       "      <th>Incident Datetime</th>\n",
       "      <th>Incident Date</th>\n",
       "      <th>Incident Time</th>\n",
       "      <th>Incident Year</th>\n",
       "      <th>Incident Day of Week</th>\n",
       "      <th>Report Datetime</th>\n",
       "      <th>Row ID</th>\n",
       "      <th>Incident ID</th>\n",
       "      <th>Incident Number</th>\n",
       "      <th>CAD Number</th>\n",
       "      <th>...</th>\n",
       "      <th>Longitude</th>\n",
       "      <th>Point</th>\n",
       "      <th>Neighborhoods</th>\n",
       "      <th>ESNCAG - Boundary File</th>\n",
       "      <th>Central Market/Tenderloin Boundary Polygon - Updated</th>\n",
       "      <th>Civic Center Harm Reduction Project Boundary</th>\n",
       "      <th>HSOC Zones as of 2018-06-05</th>\n",
       "      <th>Invest In Neighborhoods (IIN) Areas</th>\n",
       "      <th>Current Supervisor Districts</th>\n",
       "      <th>Current Police Districts</th>\n",
       "    </tr>\n",
       "  </thead>\n",
       "  <tbody>\n",
       "  </tbody>\n",
       "</table>\n",
       "<p>0 rows × 34 columns</p>\n",
       "</div>"
      ],
      "text/plain": [
       "Empty DataFrame\n",
       "Columns: [Incident Datetime, Incident Date, Incident Time, Incident Year, Incident Day of Week, Report Datetime, Row ID, Incident ID, Incident Number, CAD Number, Report Type Code, Report Type Description, Filed Online, Incident Code, Incident Category, Incident Subcategory, Incident Description, Resolution, Intersection, CNN, Police District, Analysis Neighborhood, Supervisor District, Latitude, Longitude, Point, Neighborhoods, ESNCAG - Boundary File, Central Market/Tenderloin Boundary Polygon - Updated, Civic Center Harm Reduction Project Boundary, HSOC Zones as of 2018-06-05, Invest In Neighborhoods (IIN) Areas, Current Supervisor Districts, Current Police Districts]\n",
       "Index: []\n",
       "\n",
       "[0 rows x 34 columns]"
      ]
     },
     "execution_count": 23,
     "metadata": {},
     "output_type": "execute_result"
    }
   ],
   "source": [
    "find_marijuana_4"
   ]
  },
  {
   "cell_type": "markdown",
   "id": "061a6ef8-d020-4112-9549-6125533101b0",
   "metadata": {},
   "source": [
    "Frustratingly I'm not finding any marijuana information in any of these columns"
   ]
  },
  {
   "cell_type": "code",
   "execution_count": 24,
   "id": "717888f5-9eea-43ea-876b-08535dc8bc77",
   "metadata": {},
   "outputs": [],
   "source": [
    "upper_test = newer_data"
   ]
  },
  {
   "cell_type": "code",
   "execution_count": 25,
   "id": "1faab3fa-f736-45e9-880a-438bfc0581f4",
   "metadata": {},
   "outputs": [
    {
     "ename": "AttributeError",
     "evalue": "'DataFrame' object has no attribute 'upper'",
     "output_type": "error",
     "traceback": [
      "\u001b[0;31m---------------------------------------------------------------------------\u001b[0m",
      "\u001b[0;31mAttributeError\u001b[0m                            Traceback (most recent call last)",
      "\u001b[0;32m/var/folders/fz/m3tv4bmn60s84rh3pzbf_v680000gn/T/ipykernel_2709/3682502988.py\u001b[0m in \u001b[0;36m<module>\u001b[0;34m\u001b[0m\n\u001b[0;32m----> 1\u001b[0;31m \u001b[0mupper_test\u001b[0m \u001b[0;34m=\u001b[0m \u001b[0mupper_test\u001b[0m\u001b[0;34m.\u001b[0m\u001b[0mupper\u001b[0m\u001b[0;34m(\u001b[0m\u001b[0;34m)\u001b[0m\u001b[0;34m\u001b[0m\u001b[0;34m\u001b[0m\u001b[0m\n\u001b[0m",
      "\u001b[0;32m~/.pyenv/versions/3.8.5/envs/sf_crime_data_analysis-3.8.5/lib/python3.8/site-packages/pandas/core/generic.py\u001b[0m in \u001b[0;36m__getattr__\u001b[0;34m(self, name)\u001b[0m\n\u001b[1;32m   5485\u001b[0m         ):\n\u001b[1;32m   5486\u001b[0m             \u001b[0;32mreturn\u001b[0m \u001b[0mself\u001b[0m\u001b[0;34m[\u001b[0m\u001b[0mname\u001b[0m\u001b[0;34m]\u001b[0m\u001b[0;34m\u001b[0m\u001b[0;34m\u001b[0m\u001b[0m\n\u001b[0;32m-> 5487\u001b[0;31m         \u001b[0;32mreturn\u001b[0m \u001b[0mobject\u001b[0m\u001b[0;34m.\u001b[0m\u001b[0m__getattribute__\u001b[0m\u001b[0;34m(\u001b[0m\u001b[0mself\u001b[0m\u001b[0;34m,\u001b[0m \u001b[0mname\u001b[0m\u001b[0;34m)\u001b[0m\u001b[0;34m\u001b[0m\u001b[0;34m\u001b[0m\u001b[0m\n\u001b[0m\u001b[1;32m   5488\u001b[0m \u001b[0;34m\u001b[0m\u001b[0m\n\u001b[1;32m   5489\u001b[0m     \u001b[0;32mdef\u001b[0m \u001b[0m__setattr__\u001b[0m\u001b[0;34m(\u001b[0m\u001b[0mself\u001b[0m\u001b[0;34m,\u001b[0m \u001b[0mname\u001b[0m\u001b[0;34m:\u001b[0m \u001b[0mstr\u001b[0m\u001b[0;34m,\u001b[0m \u001b[0mvalue\u001b[0m\u001b[0;34m)\u001b[0m \u001b[0;34m->\u001b[0m \u001b[0;32mNone\u001b[0m\u001b[0;34m:\u001b[0m\u001b[0;34m\u001b[0m\u001b[0;34m\u001b[0m\u001b[0m\n",
      "\u001b[0;31mAttributeError\u001b[0m: 'DataFrame' object has no attribute 'upper'"
     ]
    }
   ],
   "source": [
    "upper_test = upper_test.upper()"
   ]
  },
  {
   "cell_type": "code",
   "execution_count": 26,
   "id": "047894fe-43e8-4a81-8081-fd7a58b2b768",
   "metadata": {},
   "outputs": [
    {
     "name": "stdout",
     "output_type": "stream",
     "text": [
      "hello\n"
     ]
    }
   ],
   "source": [
    "test = 'hello'\n",
    "print(test)"
   ]
  },
  {
   "cell_type": "code",
   "execution_count": 27,
   "id": "008e782a-3e39-4d64-8a63-33612d73b326",
   "metadata": {},
   "outputs": [
    {
     "data": {
      "text/plain": [
       "'HELLO'"
      ]
     },
     "execution_count": 27,
     "metadata": {},
     "output_type": "execute_result"
    }
   ],
   "source": [
    "test.upper()"
   ]
  },
  {
   "cell_type": "code",
   "execution_count": 32,
   "id": "3fa4b2a2-78db-4279-a6a9-2bcb6baef8fe",
   "metadata": {},
   "outputs": [
    {
     "data": {
      "text/plain": [
       "Index(['Incident Datetime', 'Incident Date', 'Incident Time', 'Incident Year',\n",
       "       'Incident Day of Week', 'Report Datetime', 'Row ID', 'Incident ID',\n",
       "       'Incident Number', 'CAD Number', 'Report Type Code',\n",
       "       'Report Type Description', 'Filed Online', 'Incident Code',\n",
       "       'Incident Category', 'Incident Subcategory', 'Incident Description',\n",
       "       'Resolution', 'Intersection', 'CNN', 'Police District',\n",
       "       'Analysis Neighborhood', 'Supervisor District', 'Latitude', 'Longitude',\n",
       "       'Point', 'Neighborhoods', 'ESNCAG - Boundary File',\n",
       "       'Central Market/Tenderloin Boundary Polygon - Updated',\n",
       "       'Civic Center Harm Reduction Project Boundary',\n",
       "       'HSOC Zones as of 2018-06-05', 'Invest In Neighborhoods (IIN) Areas',\n",
       "       'Current Supervisor Districts', 'Current Police Districts'],\n",
       "      dtype='object')"
      ]
     },
     "execution_count": 32,
     "metadata": {},
     "output_type": "execute_result"
    }
   ],
   "source": [
    "newer_data.columns"
   ]
  },
  {
   "cell_type": "code",
   "execution_count": 35,
   "id": "c2e66361-fb74-4d27-a69c-4fa39f4f33e5",
   "metadata": {},
   "outputs": [],
   "source": [
    "incident_descript_upper = newer_data['Incident Subcategory'].str.upper()"
   ]
  },
  {
   "cell_type": "code",
   "execution_count": 38,
   "id": "36d7c306-aab2-4eae-8469-8e2ff0c797c8",
   "metadata": {},
   "outputs": [],
   "source": [
    "find_marijuana_5 = incident_descript_upper.str.contains('MARIJUANA').reset_index(drop=True)"
   ]
  },
  {
   "cell_type": "code",
   "execution_count": 41,
   "id": "7bd397dd-15af-4f8d-9865-59f1e29eff56",
   "metadata": {},
   "outputs": [
    {
     "data": {
      "text/plain": [
       "array([False, nan], dtype=object)"
      ]
     },
     "execution_count": 41,
     "metadata": {},
     "output_type": "execute_result"
    }
   ],
   "source": [
    "find_marijuana_5.unique()"
   ]
  },
  {
   "cell_type": "code",
   "execution_count": 48,
   "id": "e2c54ed4-9978-4853-b32f-d54ea5ad8562",
   "metadata": {},
   "outputs": [
    {
     "ename": "AttributeError",
     "evalue": "'Series' object has no attribute 'info'",
     "output_type": "error",
     "traceback": [
      "\u001b[0;31m---------------------------------------------------------------------------\u001b[0m",
      "\u001b[0;31mAttributeError\u001b[0m                            Traceback (most recent call last)",
      "\u001b[0;32m/var/folders/fz/m3tv4bmn60s84rh3pzbf_v680000gn/T/ipykernel_2709/2266429387.py\u001b[0m in \u001b[0;36m<module>\u001b[0;34m\u001b[0m\n\u001b[0;32m----> 1\u001b[0;31m \u001b[0mincident_descript_upper\u001b[0m\u001b[0;34m.\u001b[0m\u001b[0minfo\u001b[0m\u001b[0;34m\u001b[0m\u001b[0;34m\u001b[0m\u001b[0m\n\u001b[0m",
      "\u001b[0;32m~/.pyenv/versions/3.8.5/envs/sf_crime_data_analysis-3.8.5/lib/python3.8/site-packages/pandas/core/generic.py\u001b[0m in \u001b[0;36m__getattr__\u001b[0;34m(self, name)\u001b[0m\n\u001b[1;32m   5485\u001b[0m         ):\n\u001b[1;32m   5486\u001b[0m             \u001b[0;32mreturn\u001b[0m \u001b[0mself\u001b[0m\u001b[0;34m[\u001b[0m\u001b[0mname\u001b[0m\u001b[0;34m]\u001b[0m\u001b[0;34m\u001b[0m\u001b[0;34m\u001b[0m\u001b[0m\n\u001b[0;32m-> 5487\u001b[0;31m         \u001b[0;32mreturn\u001b[0m \u001b[0mobject\u001b[0m\u001b[0;34m.\u001b[0m\u001b[0m__getattribute__\u001b[0m\u001b[0;34m(\u001b[0m\u001b[0mself\u001b[0m\u001b[0;34m,\u001b[0m \u001b[0mname\u001b[0m\u001b[0;34m)\u001b[0m\u001b[0;34m\u001b[0m\u001b[0;34m\u001b[0m\u001b[0m\n\u001b[0m\u001b[1;32m   5488\u001b[0m \u001b[0;34m\u001b[0m\u001b[0m\n\u001b[1;32m   5489\u001b[0m     \u001b[0;32mdef\u001b[0m \u001b[0m__setattr__\u001b[0m\u001b[0;34m(\u001b[0m\u001b[0mself\u001b[0m\u001b[0;34m,\u001b[0m \u001b[0mname\u001b[0m\u001b[0;34m:\u001b[0m \u001b[0mstr\u001b[0m\u001b[0;34m,\u001b[0m \u001b[0mvalue\u001b[0m\u001b[0;34m)\u001b[0m \u001b[0;34m->\u001b[0m \u001b[0;32mNone\u001b[0m\u001b[0;34m:\u001b[0m\u001b[0;34m\u001b[0m\u001b[0;34m\u001b[0m\u001b[0m\n",
      "\u001b[0;31mAttributeError\u001b[0m: 'Series' object has no attribute 'info'"
     ]
    }
   ],
   "source": [
    "\n"
   ]
  },
  {
   "cell_type": "code",
   "execution_count": 47,
   "id": "04d16cee-3514-4cc4-b583-76807d4bab97",
   "metadata": {},
   "outputs": [
    {
     "name": "stdout",
     "output_type": "stream",
     "text": [
      "<class 'pandas.core.frame.DataFrame'>\n",
      "RangeIndex: 513217 entries, 0 to 513216\n",
      "Data columns (total 34 columns):\n",
      " #   Column                                                Non-Null Count   Dtype \n",
      "---  ------                                                --------------   ----- \n",
      " 0   Incident Datetime                                     513217 non-null  object\n",
      " 1   Incident Date                                         513217 non-null  object\n",
      " 2   Incident Time                                         513217 non-null  object\n",
      " 3   Incident Year                                         513217 non-null  object\n",
      " 4   Incident Day of Week                                  513217 non-null  object\n",
      " 5   Report Datetime                                       513217 non-null  object\n",
      " 6   Row ID                                                513217 non-null  object\n",
      " 7   Incident ID                                           513217 non-null  object\n",
      " 8   Incident Number                                       513217 non-null  object\n",
      " 9   CAD Number                                            401037 non-null  object\n",
      " 10  Report Type Code                                      513217 non-null  object\n",
      " 11  Report Type Description                               513217 non-null  object\n",
      " 12  Filed Online                                          102175 non-null  object\n",
      " 13  Incident Code                                         513217 non-null  object\n",
      " 14  Incident Category                                     512762 non-null  object\n",
      " 15  Incident Subcategory                                  512762 non-null  object\n",
      " 16  Incident Description                                  513217 non-null  object\n",
      " 17  Resolution                                            513217 non-null  object\n",
      " 18  Intersection                                          487102 non-null  object\n",
      " 19  CNN                                                   487102 non-null  object\n",
      " 20  Police District                                       513217 non-null  object\n",
      " 21  Analysis Neighborhood                                 486999 non-null  object\n",
      " 22  Supervisor District                                   487102 non-null  object\n",
      " 23  Latitude                                              487102 non-null  object\n",
      " 24  Longitude                                             487102 non-null  object\n",
      " 25  Point                                                 487102 non-null  object\n",
      " 26  Neighborhoods                                         476550 non-null  object\n",
      " 27  ESNCAG - Boundary File                                5554 non-null    object\n",
      " 28  Central Market/Tenderloin Boundary Polygon - Updated  65698 non-null   object\n",
      " 29  Civic Center Harm Reduction Project Boundary          65453 non-null   object\n",
      " 30  HSOC Zones as of 2018-06-05                           109321 non-null  object\n",
      " 31  Invest In Neighborhoods (IIN) Areas                   0 non-null       object\n",
      " 32  Current Supervisor Districts                          487017 non-null  object\n",
      " 33  Current Police Districts                              486474 non-null  object\n",
      "dtypes: object(34)\n",
      "memory usage: 133.1+ MB\n"
     ]
    }
   ],
   "source": [
    "newer_data.info()"
   ]
  },
  {
   "cell_type": "code",
   "execution_count": 50,
   "id": "8e403df8-91b8-479e-83c8-b073092fa3de",
   "metadata": {},
   "outputs": [
    {
     "data": {
      "text/plain": [
       "array(['Malicious Mischief, Vandalism to Property', 'Arson',\n",
       "       'Lost Property', 'Theft, From Locked Vehicle, >$950',\n",
       "       'Suspicious Occurrence', 'Trespassing',\n",
       "       'Vehicle, Recovered, Stolen outside SF', 'Mental Health Detention',\n",
       "       'Burglary, Hot Prowl, Forcible Entry',\n",
       "       'Theft, From Locked Vehicle, $200-$950',\n",
       "       'Malicious Mischief, Vandalism to Vehicle', 'Battery, Sexual',\n",
       "       'Firearm, Possession of Loaded', 'License Plate, Stolen',\n",
       "       'Theft, From Unlocked Vehicle, >$950',\n",
       "       'Weapon, Deadly, Imitation or Laser Scope, Exhibiting',\n",
       "       'Vehicle, Stolen, Motorcycle', 'Investigative Detention',\n",
       "       'Vehicle, Stolen, Auto', 'Vehicle, Recovered, Auto',\n",
       "       'Found  Property', 'Theft, From Building, $200-$950',\n",
       "       'Theft, Lost Property, Petty',\n",
       "       'Firearm, Discharging Within City Limits',\n",
       "       'Phone Calls, Harassing', 'Warrant Arrest, Local SF Warrant',\n",
       "       'Burglary, Residence, Forcible Entry',\n",
       "       'Burglary, Residence, Unlawful Entry',\n",
       "       'Fraudulent Game or Trick, Obtaining Money or Property',\n",
       "       'Vehicle, Recovered, Other Vehicle',\n",
       "       'Assault, Att. Homicide, W/ Knife', 'Dog, Bite or Attack',\n",
       "       'Battery', 'Methamphetamine, Possession For Sale',\n",
       "       'Theft, Other Property, $50-$200', 'Cocaine, Possession For Sale',\n",
       "       'State Code Misdemeanor (general)', 'Theft, Other Property, <$50',\n",
       "       'Domestic Violence (secondary only)', 'Aided Case',\n",
       "       'Burglary, Non-residential, Unlawful Entry',\n",
       "       'Vehicle, Recovered, Truck', 'Hate Crime (secondary only)',\n",
       "       'Terrorist Threats', 'Burglary, Apartment House, Forcible Entry',\n",
       "       'False Personation', 'Conspiracy', 'License Plate, Recovered',\n",
       "       'Burglary, Other Bldg., Unlawful Entry',\n",
       "       'Miscellaneous Investigation', 'Vehicle, Stolen & Recovered',\n",
       "       'Theft, From Locked Vehicle, $50-$200', 'Vehicle, Stolen, Truck',\n",
       "       'Burglary, Apartment House, Unlawful Entry',\n",
       "       'Theft, Shoplifting, $200-$950', 'Theft of Checks or Credit Cards',\n",
       "       'Burglary, Hot Prowl, Att. Forcible Entry',\n",
       "       'Theft, Other Property, >$950', 'Missing Adult',\n",
       "       'Suspicious Package', 'Traffic Violation Arrest',\n",
       "       'Search Warrant Service', 'Vehicle, Recovered, Motorcycle',\n",
       "       'Cocaine, Base/rock, Possession For Sale',\n",
       "       'Theft, Other Property, $200-$950',\n",
       "       'Burglary, Apartment House, Att. Forcible Entry',\n",
       "       'Evading a Police Officer Recklessly',\n",
       "       'Robbery, Residence, W/ Gun', 'Death Report, Cause Unknown',\n",
       "       'False Imprisonment',\n",
       "       'False Personation to Receive Money or Property',\n",
       "       'Theft, Bicycle, $200-$950',\n",
       "       'Assault, Aggravated, W/ Other Weapon',\n",
       "       'Theft, From Building, >$950', 'Burglary, Store, Forcible Entry',\n",
       "       'Theft, From Locked Vehicle, <$50', 'Robbery, W/ Gun',\n",
       "       'Fraudulent Use Of Automated Teller Card',\n",
       "       'Theft, From Locked Vehicle, Att.', 'Robbery, W/ Force',\n",
       "       'Malicious Mischief, Tire Slashing',\n",
       "       'Theft, Vehicle Strip, $200-$950',\n",
       "       'Resisting, Delaying, or Obstructing  Peace Officer Duties',\n",
       "       'Assault, Aggravated, W/ Gun', 'Carjacking with a Gun',\n",
       "       'Theft, Shoplifting, $50-$200', 'Assault, Aggravated, W/ Force',\n",
       "       'Malicious Mischief, Graffiti, Real or Personal Property',\n",
       "       'Shoplifting, Force against Agent',\n",
       "       'Vehicle, Stolen, Other Vehicle',\n",
       "       'Theft, From Person, <$50 (other than Pickpocket)',\n",
       "       'Weapon, Carrying Concealed',\n",
       "       'Loitering Without Lawful Business With Owner or Occupant',\n",
       "       'Malicious Mischief, Adult Suspect', 'Driving, No License Issued',\n",
       "       'Theft, Vehicle Strip, >$950', 'Theft, From Building, <$50',\n",
       "       'Robbery, Street or Public Place, W/ Force',\n",
       "       'Traffic Collision, Hit & Run, Property Damage',\n",
       "       'Robbery, Att., W/ Gun', 'Violation of Restraining Order',\n",
       "       'Theft, From Person, $200-$950 (other than Pickpocket)',\n",
       "       'Opiates, Possession For Sale',\n",
       "       'Battery, former Spouse or Dating Relationship',\n",
       "       'Burglary, Non-residential, Forcible Entry',\n",
       "       'Lodging Without Permission', 'Theft, Shoplifting, Att.',\n",
       "       'False Personation and Cheat Crimes (general)', 'Found Person',\n",
       "       'Assault, Aggravated, W/ Knife',\n",
       "       'Driving, License Suspended or Revoked',\n",
       "       'Access Card, incl. Credit, Phone, ATM, Fraudulent Use of',\n",
       "       'Narcotics Paraphernalia, Possession of',\n",
       "       'Firearm, Armed While Possessing Controlled Substance',\n",
       "       'Robbery, Comml. Establ., W/ Force',\n",
       "       'Warrant Arrest, Enroute To Outside Jurisdiction',\n",
       "       'Arson of Vehicle',\n",
       "       'Stolen Property, Possession with Knowledge, Receiving',\n",
       "       'Alcohol, Under Influence Of In Public Place',\n",
       "       'Theft, Shoplifting, >$950', 'Courtesy Report', 'Case Closure',\n",
       "       'Warrant Arrest, Enroute To Dept. Of Corrections',\n",
       "       'Driving, Reckless', 'Controlled Substance Offense',\n",
       "       'Battery with Serious Injuries', 'Theft, From Building, $50-$200',\n",
       "       'Fire Report', 'Firearm, Possession By Prohibited Person',\n",
       "       'Robbery, Att., Bank, W/ Force',\n",
       "       'Malicious Mischief, Breaking Windows',\n",
       "       'Burglary, Hot Prowl, Unlawful Entry',\n",
       "       'Driving, Stunt Vehicle/Street Racing',\n",
       "       'Burglary, Store, Unlawful Entry',\n",
       "       'Discharging Offensive or Injurious Substance in Public Area',\n",
       "       'Burglary, Flat, Forcible Entry',\n",
       "       'Shooting into Inhabited Dwelling or Occupied Vehicle',\n",
       "       'Probation Violation',\n",
       "       'Driving While Under The Influence Of Alcohol',\n",
       "       'Burglary, Other Bldg., Forcible Entry',\n",
       "       'Burglary, Vehicle (Arrest made)', 'Vehicle, Tampering',\n",
       "       'Disturbing The Peace', 'Theft, Bicycle, >$950',\n",
       "       'Counterfeit Money or Coins', 'Phone Calls, Threatening',\n",
       "       'Counterfeit Coins Or Notes, Possessing or Receiving',\n",
       "       'Robbery, Att., W/ Other Weapon',\n",
       "       'Threat or Force to Resist Executive Officer',\n",
       "       'Robbery, W/ Other Weapon', 'Phone Calls, Obscene',\n",
       "       'Heroin, Possession For Sale',\n",
       "       'Weapon, Carrying Concealed with Felony or Narcotics Conviction',\n",
       "       'Delivered Mail, Damage or Destruction of',\n",
       "       'Warrant Arrest, Enroute To US Marshall',\n",
       "       'Stay Away or Court Order, Non-DV Related',\n",
       "       'Assault, W/ Caustic Chemical to Injure or Disfigure',\n",
       "       'Incident On School Grounds', 'Cocaine, Base/rock Offense',\n",
       "       'Stay Away Order Violation, DVU related',\n",
       "       'Robbery, Att., W/ Force', 'Robbery, Bank, W/ Other Weapon',\n",
       "       'Theft, Shoplifting, <$50', 'Burglary Tools, Possession Of',\n",
       "       'Public Nuisance, Committing', 'Controlled Substance, Sale',\n",
       "       'Violation of Stay Away Order',\n",
       "       'Restraining Order Notification/Service of Restraining Order',\n",
       "       'Theft, Lost Property, Grand',\n",
       "       'Theft, From Unlocked Vehicle, <$50',\n",
       "       'Injuring Phone, Cable TV, or Other Line',\n",
       "       'Municipal Code Violation (general)',\n",
       "       'Theft, From Unlocked Vehicle, $200-$950',\n",
       "       'Burglary, Residence, Att. Forcible Entry',\n",
       "       'Burglary, Warehouse, Forcible Entry',\n",
       "       'Vehicle, Stolen, Mobile Home or House Trailer',\n",
       "       'Traffic Collision', 'Driving, Speeding',\n",
       "       'License Plate or Tab, Theft of', 'Vehicle, Impounded',\n",
       "       'Burglary, Non-residential, Att. Forcible',\n",
       "       'Weapon, Prohibited, Possession, Sale, Mfg., Import',\n",
       "       'Firearm, Turned In by Public', 'Forgery, Checks, Felony',\n",
       "       'Death Report, Natural Causes', 'Theft from Merchant or Library',\n",
       "       'Vandalism or Graffiti Tools, Possession',\n",
       "       'Firearm, Discharging at Unoccupied Bldg, Vehicle or Aircraft',\n",
       "       'Rail Transit, Entering, Remaining, or Hindering Operation of',\n",
       "       'Burglary, Other Bldg., Att. Forcible Entry',\n",
       "       'Suicide By Strangulation/Hanging',\n",
       "       'Theft, From Person, >$950 (other than Pickpocket)', 'Stalking',\n",
       "       'Phone Calls, Harassing, to 911', 'Interfering, W/ Police Officer',\n",
       "       'Property for Identification', 'Methamphetamine Offense',\n",
       "       'Damage To Mail Box', 'Vehicle, Misplaced',\n",
       "       'Disturbing The Peace, Fighting',\n",
       "       'Access Card Information, Theft of',\n",
       "       'Warrant Arrest, Enroute To Probation', 'Assault, Non-Aggravated',\n",
       "       'Theft, From Person, $50-$200 (other than Pickpocket)',\n",
       "       'State Code Felony (general)', 'Theft, Bicycle, Att.',\n",
       "       'Theft of Other Property, Att.',\n",
       "       'Firearm, Discharging at Occupied Bldg, Vehicle, or Aircraft',\n",
       "       'Theft, Bicycle, $50-$200', 'Evading a Police Vehicle or Bicycle',\n",
       "       'Vehicle, Stolen, Attempted',\n",
       "       'Burglary, Flat, Att. Forcible Entry',\n",
       "       'Checks, False, Making, Uttering or Possessing',\n",
       "       'Forgery & Counterfeiting (general)',\n",
       "       'Counterfeiting, Coins Or Notes',\n",
       "       'Unemployment Insurance Act Violation',\n",
       "       'Violation of Emergency Protective Order',\n",
       "       'Battery, Of A Police Officer',\n",
       "       'Firearm, Possession of While Wearing Mask',\n",
       "       'Theft, From Unlocked Vehicle, $50-$200',\n",
       "       'Malicious Mischief, Breaking Windows With BB Gun',\n",
       "       'Driving, Drag Racing',\n",
       "       'Driving While Under The Influence Of Alcohol, w/Injury',\n",
       "       'Theft, Pickpocket, $200-$950', 'Theft, False Pretenses, Felony',\n",
       "       'Aided Case, Injured or Sick Person',\n",
       "       'Traffic Collision, Hit & Run, Injury',\n",
       "       'Theft of Computers or Cell Phones',\n",
       "       'Suspicious Act Towards Female',\n",
       "       'Robbery, Street or Public Place, W/ Gun',\n",
       "       'Firearm, Discharging in Grossly Negligent Manner',\n",
       "       'Robbery, Att., Street or Public Place, W/ Force',\n",
       "       'Aided Case -Property for Destruction',\n",
       "       'Robbery, Chain Store, W/ Force', 'Theft, Vehicle Strip, <$50',\n",
       "       'Resisting Peace Officer, causing Their Serious Injury or Death',\n",
       "       'Parole Violation, Adult', 'Robbery, W/ Knife',\n",
       "       'Driving While Under The Influence Of Drugs',\n",
       "       'Assault, Aggravated, On Police Officer, W/ Knife',\n",
       "       'Credit Application, Fraudulent',\n",
       "       'Theft, Trick And Device, Felony',\n",
       "       'Assault, Att. Mayhem, W/ Force', 'Probation Search',\n",
       "       'Theft, Pickpocket, $50-$200',\n",
       "       'Human Trafficking (A)-Commercial Sex Acts',\n",
       "       'Vehicle, Recovered, Mobile Home or House Trailer',\n",
       "       'Air Gun, Possession', 'Gun Violence Restraining Order',\n",
       "       'Theft, Pickpocket, >$950', 'Cocaine Offense',\n",
       "       'License Plate, Found',\n",
       "       'Money, Property or Labor, Fraudulently Obtaining',\n",
       "       'Assault, Non-Aggravated, Att.', 'Fire, Unlawfully Causing',\n",
       "       'Robbery, Street or Public Place, W/ Other Weapon',\n",
       "       'Kidnapping (Adult victim)', 'Theft of Animals (general)',\n",
       "       'Fire Protection Equipment, Tampering with',\n",
       "       'Burglary, Residence Under Constr, Forcible Entry',\n",
       "       'ATM-related Crime (secondary code only)',\n",
       "       'School Campus, Remaining Without Consent',\n",
       "       'Assault, Att. Homicide, W/ Force',\n",
       "       'Vehicle Registration, False Evidence of', 'Located Property',\n",
       "       'Theft, Coin Operated Machine, Att.',\n",
       "       'Firearm, Loaded, in Vehicle, Possession or Use',\n",
       "       'Burglary, Flat, Unlawful Entry',\n",
       "       'Burglary, Store, Att. Forcible Entry',\n",
       "       'Theft, From Person, Att. (other than Pickpocket)',\n",
       "       'Civil Sidewalks, Violation',\n",
       "       'Defrauding Providers of Food, Fuel, Services, or Accommodations',\n",
       "       'Probation Violation, DVU related',\n",
       "       'School Property, Disturbance on', 'Opiates Offense',\n",
       "       'License Plate, Lost', 'Indecent Exposure (Adult victim)',\n",
       "       'EPO or Restraining Order Violation, DVU related',\n",
       "       'Unusual Occurrence', 'Loitering for Purpose of Prostitution',\n",
       "       'Phone Calls in Violation of DVU Court Order',\n",
       "       'False Report of Felony or Misdemeanor', 'Robbery,  ATM, Gun',\n",
       "       'Manslaughter, Vehicular',\n",
       "       'Loitering Where Narcotics are Sold/Used',\n",
       "       'Extortion or Blackmail', 'Burglary, Safe,  Store',\n",
       "       'Civil Sidewalks, Citation', 'Extortion, Attempted',\n",
       "       'Robbery, Comml. Establ. W/ Weapon',\n",
       "       'Driving, Reckless, with Injury',\n",
       "       'Robbery, Att., Service Station, W/ Gun',\n",
       "       'Theft, From Building, Att.', 'Theft, Grand, of Firearm',\n",
       "       'Burglary, Hotel Room, Unlawful Entry',\n",
       "       'Drugs, Under Influence  in a Public Place',\n",
       "       'Robbery, Bank, W/ Force', 'Aided Case, Sick Person',\n",
       "       'Malicious Mischief, Street Cars/Buses',\n",
       "       'Gang Related (secondary only)',\n",
       "       'Controlled Substance, Possession For Sale',\n",
       "       'Warrant Arrest, Enroute To Adult Authority',\n",
       "       'Opiates, Transportation', 'Aided case, Naloxone Deployment',\n",
       "       'Ammunition, Poss. By Prohibited Person',\n",
       "       'Theft, Vehicle Strip, Attempted',\n",
       "       'Firearm, Carrying Loaded with Intent to Commit Felony',\n",
       "       'Post Release Community Supervision',\n",
       "       'Suicide By Laceration/Stabbing', 'Vehicle, Stolen, Bus',\n",
       "       'Cellular or Cordless Phone Communications, Intercepting',\n",
       "       'Bathroom Hole, Looking through',\n",
       "       'Identification To Peace Officer, False',\n",
       "       'Burglary, Apt Under Constr., Forcible Entry',\n",
       "       'Robbery, Chain Store, W/ Knife', 'Animal, Cruelty to',\n",
       "       'SFMTA Muni Transit Operator-Bus/LRV',\n",
       "       'Carjacking with Bodily Force', 'Embezzlement (general)',\n",
       "       'Firearm, Discharging At An Inhabited Dwelling',\n",
       "       'Stolen Checks, Possession', 'Embezzlement, Grand Theft',\n",
       "       'Warrant Arrest, Enroute To Parole',\n",
       "       'Robbery, Service Station, W/ Force',\n",
       "       'Suspicious Occurrence, possible Shots Fired',\n",
       "       'Robbery, Chain Store, W/ Other Weapon',\n",
       "       'Weapon, Assault, Registration or Transfer Violation',\n",
       "       'Weapon, Possessing in Public Building or Open Meeting',\n",
       "       'Bomb Threat or False Report of Bomb',\n",
       "       'Identification Card or Drivers License, Falsify or Display',\n",
       "       'Marijuana Offense', 'Suspicious Vehicle',\n",
       "       'Arson, Inhabited Dwelling', 'Tarasoff Report',\n",
       "       'Arson, Portable Toilet',\n",
       "       'Computer System, Accessing, Copying, or Damaging',\n",
       "       'Methamphetamine, Sale',\n",
       "       'Fireworks, Possession of any within SF,  incl. \"Safe & Sane\"',\n",
       "       'Park Code Violation (general)',\n",
       "       'Burglary, Other Bldg. Under Constr., Unlawful Entry',\n",
       "       'Suspicious Person', 'Opium Offense',\n",
       "       'Burglary, Warehouse, Att. Forcible Entry',\n",
       "       'Alcohol, Consuming In Public View',\n",
       "       'Robbery, Residence, W/ Knife',\n",
       "       'Checks, Making or Uttering with Insufficient Funds',\n",
       "       'Vehicle, Recovered, Bus', 'Theft, Vehicle Strip, $50-$200',\n",
       "       'Theft, Trick & Device, Misd.', 'Unlawful Assembly',\n",
       "       'Robbery, Att., W/ Knife', 'Switchblade Knife, Possession',\n",
       "       'Checks or Legal Instruments, Uttering Forged',\n",
       "       'Suicide By Jumping',\n",
       "       'Weapon, Deadly, Carrying with Intent to Commit Assault',\n",
       "       'Engaging In Lewd Act',\n",
       "       'Controlled Substance, Presence Where Used',\n",
       "       'Vehicle, Throwing Substance At',\n",
       "       'Assault, Att. Homicide, W/ Other Weapon',\n",
       "       'Weapon, Deadly, Possession W/ Intent To Assault',\n",
       "       'Embezzlement from Dependent or Elder Adult by Caretaker',\n",
       "       'Burglary Tools, Possession Of w/prior',\n",
       "       'Robbery, Att., Bank, W/ Other Weapon',\n",
       "       'Driving, Failure To Heed Red Light And Siren',\n",
       "       'Firearm, Tampering With Marks',\n",
       "       'Burglary, Other Bldg. Under Constr., Forcible Entry',\n",
       "       'Assault, Aggravated, On Police Officer, W/ Force',\n",
       "       'Public Transit, Acts Against',\n",
       "       'Firearm Possession in School Zone',\n",
       "       'Municipal Police Code Violation (general)', 'Suicide, Attempted',\n",
       "       'Suicide By Jumping, Att.', 'Robbery, Att., Chain Store, W/ Force',\n",
       "       'Assault, Att. Homicide, W/ Gun',\n",
       "       'Phone Calls, Threatening or Annoying', 'Fireworks, Exploding',\n",
       "       'Carjacking with a Dangerous Weapon',\n",
       "       'Robbery, Chain Store, W/ Gun',\n",
       "       'Robbery, Att., Street or Public Place, W/ Gun',\n",
       "       'Kidnapping during Carjacking',\n",
       "       'Defrauding Gas Station/Taxi Driver', 'Parole Search',\n",
       "       'Flammable or Explosive Device, Possession',\n",
       "       'Alcohol, License Required To Sell',\n",
       "       'Firearm, Negligent Discharge',\n",
       "       'Littering or Dumping that Creates Traffic Hazard',\n",
       "       'Marijuana, Possession For Sale', 'Dissuading Witness, Victim',\n",
       "       'Kidnapping, Attempted (Adult victim)', 'Rape, Forcible, W/ Force',\n",
       "       'Robbery,  ATM, Force.', 'Theft, Pickpocket, <$50',\n",
       "       'Firearm Transfer, Violation',\n",
       "       'Maintain Premise Where Narcotics Are Sold/used',\n",
       "       'Rape, Forcible, W/ Other Weapon', 'Arson, Vacant Building',\n",
       "       'Cocaine, Base/rock, Sale', 'Rape, Assault To, W/ Force',\n",
       "       'Weapon, Assault, Possession, Manufacture, or Sale',\n",
       "       'Assault, Aggravated, On Police Off., W/ Other Weapon',\n",
       "       'Sodomy (Adult Victim)',\n",
       "       'Robbery, Att., Street or Public Place, W/ Other Weapon',\n",
       "       'Burglary, Residence Under Constr, Unlawful Entry',\n",
       "       'Robbery, Street or Public Place, W/ Knife',\n",
       "       'Embezzlement, Petty Theft', 'Arson, Commercial Building',\n",
       "       'Vehicle, Embezzled', 'Real Estate Fraud',\n",
       "       'Assault, Mayhem, W/ Knife', 'Theft, From Unlocked Vehicle, Att.',\n",
       "       'Suicide By Ingestion, Att.',\n",
       "       'Sex Offender, Failure To Register for Sexual Assault of Adult',\n",
       "       'Impersonating A Police Officer', 'Fire Alarm, False',\n",
       "       'Access Card or Signature, Forgery of',\n",
       "       'Robbery, Comml. Establ., W/ Gun',\n",
       "       'Assault, Aggravated, W/ Semi Auto', 'Explosive Device, Located',\n",
       "       'Massage Establishment Permit Violation',\n",
       "       'Robbery, Att., Comm. Establ., W/ Force',\n",
       "       'Disturbing The Peace, Swearing',\n",
       "       'Burglary, Vehicle, Att. (Arrest made)', 'Accidental Burns',\n",
       "       'Disturbing The Peace, Commotion',\n",
       "       'Embezzlement, Grand Theft By Employee',\n",
       "       'Vandalism or Graffiti on or within 100 ft of Highway',\n",
       "       'Weapon, Possess or Bring Other on School Grounds',\n",
       "       'Weapon, Concealed, Loitering While Carrying',\n",
       "       'Controlled Substance, Transportation',\n",
       "       'Identification, Government, Possess, Make or Sell False',\n",
       "       'Heroin, Sales', 'Robbery, Att., Comm. Establ. W/ Knife',\n",
       "       'Robbery, Residence, W/ Force',\n",
       "       'Electrical  or Gas Lines, Interfering with',\n",
       "       'False Report of Emergency', 'Theft, Purse Snatch, >$950',\n",
       "       'Opiates, Sale', 'Dog, Barking',\n",
       "       'Malicious Mischief, Annoying/Fictitious Phone Calls',\n",
       "       'SFMTA Parking and Control Officer',\n",
       "       'Checks, Blank or Forged, Fraudulent Possession',\n",
       "       'Robbery, Att., Chain Store, W/ Other Weapon',\n",
       "       'Embezzlement, Petty Theft By Employee',\n",
       "       'Assault, Att. Mayhem, W/ Knife', 'Theft, Trick And Device, Att.',\n",
       "       'Access Card, Possession of Lost or Stolen, with Intent to Use, Transfer, or Sell',\n",
       "       'Suicide By Laceration/Stabbing, Att.',\n",
       "       'Graffiti on Government Vehicles or Public Transportation',\n",
       "       'Heroin Offense', 'Assault, Mayhem, W/ Force',\n",
       "       'Theft, False Pretenses, Misd.',\n",
       "       'Aerosol Container; Sale, Purchase or Possession of',\n",
       "       'Hallucinogenics Offense', 'Suicide By Firearms',\n",
       "       'Assault on School Employee',\n",
       "       'School or Playground, Loitering About',\n",
       "       'Loitering and Peeking into Inhabited Structure',\n",
       "       'Robbery, Residence, W/ Other Weapon',\n",
       "       'Checks, Money Orders, Completed, Fraudulent Possession',\n",
       "       'Evading Payment of Railroad Fare',\n",
       "       'Stolen Cellular Phone, non-cloned, Possession',\n",
       "       'False Claims, Presenting to Government', 'Robbery,  ATM, Knife',\n",
       "       'Burglary, Apt Under Constr., Unlawful Entry',\n",
       "       'Burglary, Residence Under Constr, Att. Forcible',\n",
       "       'Firearm with Altered Identification',\n",
       "       'Robbery, Comml. Establ. W/ A Knife',\n",
       "       'Federal Law Violation (general)', 'Suicide',\n",
       "       'Robbery, Att., Street or Public Place, W/ Knife',\n",
       "       'Theft, Bicycle, <$50, no serial number',\n",
       "       'Destructive Device, Possession',\n",
       "       'Burglary, Hotel Under Constr., Forcible Entry',\n",
       "       'Arson, Attempted', 'Malicious Mischief, Building Under Constr.',\n",
       "       'Dog or Cat, Abandonment of', 'Auto, Grand Theft of',\n",
       "       'Prescription, Forge Or Alter (11368 H&S)',\n",
       "       'Assault, Att. Mayhem, W/ Other Weapon',\n",
       "       'Advertisements, Affixing To Poles',\n",
       "       'Theft, Purse Snatch, $200-$950', 'Methadone, Possession For Sale',\n",
       "       'Dead Body, Removing Items from',\n",
       "       'Explosives, Illegal Transportation',\n",
       "       'Weapon, Deadly, Exhibiting to Resist Arrest',\n",
       "       'Records or Returns, False Entries',\n",
       "       'Weapon, Tear Gas, Possession by Prohibited Persons',\n",
       "       'Kidnapping during Robbery', 'Theft, Motorcycle Strip, >$950',\n",
       "       'Carjacking with a Knife', 'Gambling Devices, Possession',\n",
       "       'Gambling', 'Stolen Access Card, Possession',\n",
       "       'Robbery, Att., Bank, W/ Gun',\n",
       "       'Robbery, Att., Residence, W/ Force',\n",
       "       'Hazardous Materials, Dumping in Unauthorized Location',\n",
       "       'Theft, Motorcycle Strip, $200-$950',\n",
       "       'Soliciting or Engaging In Lewd Conduct',\n",
       "       'Solicits For Act Of Prostitution',\n",
       "       'Other Offenses Against Public Justice', 'Loitering, Obstructing',\n",
       "       'Push-cart Peddler Permit Violation',\n",
       "       'Methamphetamine, Transportation', 'Financial Statements, False',\n",
       "       'Theft, Petty, with Prior Conviction',\n",
       "       'Hallucinogenic,  Possession For Sale', 'Burglary, Safe, Other',\n",
       "       'Burglary, Other Bldg. Under Constr., Att. Forcible',\n",
       "       'Fire Code Violation (general)',\n",
       "       'Impersonating Public Utility Member',\n",
       "       'Assault, Aggravated, On Police Officer, W/ Gun',\n",
       "       'Obstructions On Streets, Sidewalks',\n",
       "       'Theft, Bicycle, <$50, serial number known',\n",
       "       'Privacy, Invasion of  (general)', 'Destructive Device, Exploding',\n",
       "       'Solicits Lewd Act', 'Burglary, Warehouse, Unlawful Entry',\n",
       "       'Public Health Order Violation, Notification',\n",
       "       'Theft of Telecommunication Services, incl. Clone Phone',\n",
       "       'Trash, Placing On The Street',\n",
       "       'Embezzlement, Grand Theft By Brokers/Agents',\n",
       "       'Theft, Phone Booth, >$950',\n",
       "       'Telephone or Telegraph Messages, Altering',\n",
       "       'Theft, Pickpocket, Attempted', 'Theft of Written Instrument',\n",
       "       'Theft, Coin Operated Machine, >$950',\n",
       "       'Access Card Information, Publication of',\n",
       "       'Alcohol, Unlawful Transportation Of',\n",
       "       'Threatening School or Public Employee',\n",
       "       'Machine Gun or Sawed-off Shotgun, Possession',\n",
       "       'Accessory or Aid Or Harbor Felon',\n",
       "       'Obstructing Health Facility, Place of Worship, or School',\n",
       "       'Dissuading/Threatening Of A Witness',\n",
       "       'Robbery,  ATM, Force, Att.',\n",
       "       'Checks, Theft/Non-sufficient Funds, Felony',\n",
       "       'Food Stamps, Misuse of', 'Theft, Coin Operated Machine, <$50',\n",
       "       'Theft, Coin Operated Machine, $50-$200',\n",
       "       'Obscene Matter (general)', 'Vehicle, Rental, Failure to Return',\n",
       "       'Assault, Mayhem, W/ Gun', 'School, Public, Trespass',\n",
       "       'House of Prostitution, Keeping or Residing in',\n",
       "       'Caustic Chemical, Possession', 'Money Laundering',\n",
       "       'Robbery, Att., Comm. Establ., W/ Gun', 'Dog, Stray or Vicious',\n",
       "       'Civil Sidewalks, Warning',\n",
       "       'Public Health Order Violation, After Notification',\n",
       "       'Cloned Cellular Phone, Use',\n",
       "       'Vehicle, Open Container Of Alcohol In',\n",
       "       'Burglary, Hotel Room, Forcible Entry',\n",
       "       'Rape, Assault To, W/ Other Weapon', 'Homicide, W/ Gun',\n",
       "       'Robbery,  ATM, Other Weapon, Att.', 'Marijuana, Sales',\n",
       "       'Terrorizing by Arson or Explosive Device',\n",
       "       'Looting during State of Emergency', 'Methadone Offense',\n",
       "       'Robbery, Service Station W/ Other Weapon',\n",
       "       'Demonstration, Video Evidence, Misc Investigation',\n",
       "       'Burglary, Apt Under Constr., Att. Forcible', 'Death, Accidental',\n",
       "       'Marijuana, Cultivating/Planting',\n",
       "       'Throwing Object at Common Carrier, Passenger or Freight',\n",
       "       'Robbery,  ATM, Gun, Att.',\n",
       "       'Crimes Against Revenue & Property of State',\n",
       "       'Assault, Mayhem, W/ Other Weapon', 'Homicide',\n",
       "       'School, Disrupt Activities',\n",
       "       'Audiovisual (Video or Sound) Recordings, Unauthorized',\n",
       "       'Homicide, W/ Sharp Object', 'VIN Switch',\n",
       "       'Money Offense Related to Narcotics Trafficking',\n",
       "       'Theft of Utility Services', 'Theft, Drunk Roll, <$50',\n",
       "       'Peddling Without A License',\n",
       "       'Soliciting to Visit House Of Prostitution',\n",
       "       'Robbery, Service Station, W/ Gun',\n",
       "       'Burglary, Flat Under Constr., Unlawful Entry',\n",
       "       'Driving While Under The Influence Of Drugs, w/Injury',\n",
       "       'Defrauding Of Vehicle Repairman', 'Maintaining A Public Nuisance',\n",
       "       'Public Nuisance, Maintaining After Notification',\n",
       "       'Embezzlement, Grand Theft By Property Carrier', 'Perjury',\n",
       "       'Rape, Att., W/ Sharp Object',\n",
       "       'Gambling Paraphernalia, Possession', 'Labor Code Violation',\n",
       "       'Permit Violation, Police (general)',\n",
       "       'Burglary, Flat Under Constr., Forcible Entry',\n",
       "       'Stolen Electronics, Possession',\n",
       "       'Fireworks, Throw at Person or Discharge in Crowd',\n",
       "       'Amphetamine, Transportation',\n",
       "       'Weapon, Taking or Attempting to Take from Peace Officer',\n",
       "       'Burglary, Safe,  Residence', 'Civil Sidewalks, Booking',\n",
       "       'Evading a Police Officer, Injury or Death',\n",
       "       'Assault to Commit Mayhem or Specific Sex Offenses',\n",
       "       'Vehicle, Disabled Placard Violation', 'Military Ordinance',\n",
       "       'Suicide By Strangulation/Hanging, Att.',\n",
       "       'Animal, without Proper Care or Attention', 'Lodging in Park',\n",
       "       'Theft, Drunk Roll, $200-$950',\n",
       "       'Robbery, Att., Chain Store, W/ Gun',\n",
       "       'Falsifying Judicial & Public Records & Documents',\n",
       "       'Theft, By Prostitute, $200-$400',\n",
       "       'Arson with Great Bodily Injury', 'Escapes',\n",
       "       'Public Transit Crimes - Infractions', 'Cocaine, Sale',\n",
       "       'Robbery, Att., Chain Store, W/ Knife',\n",
       "       'Burglary, Flat Under Constr., Att. Forcible',\n",
       "       'Violation of Civil Gang Injunction',\n",
       "       'Throwing Injurious Substance on Highway',\n",
       "       'Stolen Computer, Possession',\n",
       "       'Burglary, Hotel Under Constr., Unlawful Entry',\n",
       "       'Embezzlement, Grand Theft Leased Property',\n",
       "       'Destructive Device, Possession of Materials',\n",
       "       'Permit Violation, Entertainment', 'Cocaine, Transportation',\n",
       "       'Stolen Metals, Receiving', 'Theft, Drunk Roll, >$950',\n",
       "       'Burglary, Safe,  Warehouse', 'Falsification of Medical Records',\n",
       "       'Permit Violation, Sidewalk Sales', 'Theft, Boat',\n",
       "       'Firearm Silencer, Possession', 'Amphetamines Offense',\n",
       "       'Soliciting, Aggressive', 'Pandering',\n",
       "       'Liquor Law Violation (general)', 'Theft, Purse Snatch, $50-$200',\n",
       "       'Access Card Counterfeiting Machinery, Possession of',\n",
       "       'Vandalism with Noxious Chemical', 'Hallucinogenic, Sale',\n",
       "       'Indecent Exposure, Prostitution Related',\n",
       "       'Indecent Exposure, W/ Prior Conviction',\n",
       "       'Firefighter, Interfering with',\n",
       "       'Kidnapping for Ransom or Extortion',\n",
       "       'Assault, By Police Officers', 'Drug Lab Apparatus, Possession',\n",
       "       'Heroin, Transportation', 'Pimping',\n",
       "       'Robbery, Att., Residence, W/ Knife',\n",
       "       'Robbery, Att., Bank, W/ Knife',\n",
       "       'Embezzlement, Petty Theft, Leased Property',\n",
       "       'Counterfeit/Forgery, Poss Drivers Lic Or Id Card',\n",
       "       'Opium Derivative Offense', 'Robbery, Bank, W/ Knife',\n",
       "       'Homicide, W/ Force', 'Oral Copulation, Unlawful (Adult Victim)',\n",
       "       'Robbery, Bank, W/ Gun', 'Theft, By Prostitute, <$50',\n",
       "       'Opium, Possession For Sale', 'Marijuana, Furnishing',\n",
       "       'Loitering near ATM', 'Endless Chain Schemes, Ponzi Schemes',\n",
       "       'Parking Meters, Damage to', 'Suicide By Asphyxiation',\n",
       "       'Eavesdropping Devices, Sale or Use', 'Theft, Drunk Roll, Att.',\n",
       "       'Disturbance of Non-religious, Non-political Assembly',\n",
       "       'Burglary, Hotel Room, Att. Forcible Entry',\n",
       "       'Theft, Grand, by Fiduciary, >$950 in 12 months',\n",
       "       'Rape, Att., W/ Force',\n",
       "       'Controlled Substance Violation, Loitering for',\n",
       "       'Amphetamine, Possession For Sale',\n",
       "       'Penetration, Forced, with Object',\n",
       "       'Sexual Contact with Patient, former Patient',\n",
       "       'Trespassing On Railroad Trains', 'Marijuana, Transporting',\n",
       "       'Robbery, Vehicle for Hire, Att., W/ Force',\n",
       "       'Theft, Coin Operated Machine, $200-$950', 'Abortion, Unlawful',\n",
       "       'Terrorizing by Marking Private Property',\n",
       "       'Burglary, Safe,  Hotel',\n",
       "       'Police Broadcast, Interception to Commit Crime',\n",
       "       'Embezzlement, Grand Theft Public/Private Official',\n",
       "       'Robbery, Att., Residence, W/ Gun',\n",
       "       'Embezzlement, Petty Theft By Brokers/Agents',\n",
       "       'Begging or Panhandling', 'Forgery, Government Or Corporate Seals',\n",
       "       'Rape, Att., W/ Gun', 'Scalping Tickets', 'Auto Impounded',\n",
       "       'Civil Rights, incl. Injury, Threat, or Damage (Hate Crimes)',\n",
       "       'Fire Bomb, Possession or Use',\n",
       "       'Burglary, Warehouse Under Constr, Forcible Entry',\n",
       "       'VIN, Possess to Defraud',\n",
       "       'Controlled Substance, Under the Influence of',\n",
       "       'Sexual Assault, Administering Drug to Commit',\n",
       "       'Loitering Around Public Toilet For Lewd Act',\n",
       "       'Theft, Motorcycle Strip, $50-$200',\n",
       "       'Obstructing Public Thoroughfare  (or 647(c) PC)',\n",
       "       'Sales of Cocaine Base/Schoolyard Trafficking Act Violation',\n",
       "       'Narcotics Addict, Failure To Register', 'Shooting, Accidental',\n",
       "       'Drug Offender, Presence  near School Grounds',\n",
       "       'Legal Instruments, Uttering False Checks, etc. (misd.)',\n",
       "       'Citizenship Document, Using False',\n",
       "       'Refusing To Disperse Upon Lawful Command', 'VIN, Alter Or Remove',\n",
       "       'Telephone or Telegraph Message, Sending False',\n",
       "       'Theft, Purse Snatch, Att.', 'Theft, Drunk Roll, $50-$200',\n",
       "       'Loud Speakers, Unauthorized Use of',\n",
       "       'Weapon, Deadly, Possession of to Violate 136.1 PC',\n",
       "       'Threat to State Official or Judge',\n",
       "       'Disaster Area, Entering or Remaining in',\n",
       "       'Robbery, Att., Comm. Establ. With Other Weapon',\n",
       "       'Embezzlement, Grand Theft Private Property',\n",
       "       'Trespassing or Loitering Near Posted Industrial Property',\n",
       "       'Fighting Dog or Animal, Biting or Causing  Injury or Death',\n",
       "       'Opium Derivative, Possession For Sale',\n",
       "       'Firearms, Seizing at Scene of DVU', \"Megan's Law Notification\",\n",
       "       'Chop Shop, Own or Operate', 'Theft, By Prostitute, $50-$200',\n",
       "       'Robbery,  ATM, Knife, Att.', 'Theft, Short Change',\n",
       "       'Rape, Spousal', 'Sale or Manufacture of Deceptive ID',\n",
       "       'Conceal Crime or Withhold Evidence, Accepting Payment to',\n",
       "       'Accidental Lacerations', 'Disturbing Religious Meetings',\n",
       "       'Hypodermic Needle or Syringe, Possession',\n",
       "       'Contraband, Taking Into A Reformatory',\n",
       "       'Homicide, W/ Other Weapon', 'Suicide By Asphyxiation, Att.',\n",
       "       'School Student or Employee Entering  Campus after Suspension or Dismissal',\n",
       "       'Barbiturates, Possession',\n",
       "       'Robbery, Vehicle for Hire, Att., W/ Other Weapon',\n",
       "       'Letters, Opening Sealed', 'Taxi Fare, Overcharging',\n",
       "       'Robbery, Vehicle for Hire, Att., W/ Gun',\n",
       "       'Prisoner, Rescuing From Lawful Custody', 'Suicide By Ingestion',\n",
       "       'Terrorizing by Interfering with Religious Worship',\n",
       "       'Burglary, Warehouse Under Constr, Unlawful Entry',\n",
       "       'Dog, Fighting;  Owning, Fighting, or Attending Fight',\n",
       "       'Bribery Of Witnesses', 'Crimes Involving Receipts or Titles',\n",
       "       'Robbery, Att., Service Station W/ Force',\n",
       "       'Parking Meter, Unlawful Operation or Use of Slugs',\n",
       "       'Robbery, Att., Service Station W/ Other Weapon',\n",
       "       'School Grounds, Entry by Sex Offender',\n",
       "       'Burglary, Safe, Apartment', 'Robbery,  ATM, Other Weapon',\n",
       "       'Guide Dog, Interfering with',\n",
       "       'Embezzlement, Petty Theft Private Property',\n",
       "       'Embezzlement, Petty Theft By Property Carrier',\n",
       "       'Burglary, Warehouse Under Constr, Att. Forcible',\n",
       "       'Methadone, Transportation', 'Rape, Assault To, W/ Sharp Object',\n",
       "       'Theft, Purse Snatch, <$50', 'Obscene Movies or Acts',\n",
       "       'Trespass within 30 days of Credible Threat',\n",
       "       'Robbery, Att., Residence, W/ Other Weapon',\n",
       "       'Vehicle Alarm Code Grabbing Device, Possess or Use',\n",
       "       'Robbery, Att., Service Station, W/ Knife',\n",
       "       'Hallucinogenic, Transportation',\n",
       "       'Death, Non-manslaughter Vehicle Accident',\n",
       "       'Soliciting Customer to Purchase Alcoholic Beverage',\n",
       "       'Rape, Forcible, W/ Sharp Object', 'Wiretaps, Unauthorized',\n",
       "       'Rape, Forcible, W/ Gun', 'Lynching by Riot',\n",
       "       'Soliciting Commission Of A Crime', 'Assault, Att. Mayhem, W/ Gun',\n",
       "       'Human Trafficking (B)-Involuntary Servitude (not sex-related)',\n",
       "       'Procurement, Pimping, & Pandering',\n",
       "       'False Report of Police Misconduct', 'Riot',\n",
       "       'Assault, Commission of While Armed', 'Rape, Assault To, W/ Gun',\n",
       "       'Escape or Assisting Escape',\n",
       "       'Wearing Mask or Disguise for Unlawful Purpose',\n",
       "       'Hotel Violations', 'Burglary, Safe, Warehouse, with Explosives',\n",
       "       'Suicide By Firearms, Att.', 'Barbiturates, Transportation',\n",
       "       'Lodging, Registering w/False Name',\n",
       "       'Bribery or Gratuity,  Public Employees',\n",
       "       'Permit Violation, Dance Hall', 'Riot, Inciting To',\n",
       "       'Barbiturates Offense', 'Prescription, Forge Or Alter (4390 B&P)',\n",
       "       'Sale of Satellite Telephone Numbers', 'Theft, Animal, Att.',\n",
       "       'Suicide By Drowning, Att.',\n",
       "       'Articles With ID Removed, Possession of',\n",
       "       'Jail Property, Destroying (SFPD only)',\n",
       "       'Service of Documents Related to a Civil Drug Abatement and/or Public Nuisance Action',\n",
       "       'Arson, Police Vehicle', 'Obscene Or Lewd Plays/Performances',\n",
       "       'Burglary, Safe, Other, with Explosives',\n",
       "       'Gun Violence Restraining Order Violation',\n",
       "       'Pyrotechnic Explosive Device - Barrel Bomb',\n",
       "       'Insured Property, Destruction to Defraud Insurer',\n",
       "       'Rape, Att., W/ Other Weapon',\n",
       "       'Impersonating Fire Department Member', 'Animal, Poisoning of',\n",
       "       'Embezzlement, Grand Theft By Collector',\n",
       "       'Hazardous Materials,  Dump any Substance into Water',\n",
       "       'Lotteries (general)',\n",
       "       'Cable TV Connection or Decoding Device, Unauthorized',\n",
       "       'Barbiturates, Possession For Sale'], dtype=object)"
      ]
     },
     "execution_count": 50,
     "metadata": {},
     "output_type": "execute_result"
    }
   ],
   "source": [
    "newer_data['Incident Description'].unique()"
   ]
  },
  {
   "cell_type": "code",
   "execution_count": null,
   "id": "28a30fe5-5351-4e0b-8188-a7e164184f3b",
   "metadata": {},
   "outputs": [],
   "source": []
  }
 ],
 "metadata": {
  "kernelspec": {
   "display_name": "Python 3 (ipykernel)",
   "language": "python",
   "name": "python3"
  },
  "language_info": {
   "codemirror_mode": {
    "name": "ipython",
    "version": 3
   },
   "file_extension": ".py",
   "mimetype": "text/x-python",
   "name": "python",
   "nbconvert_exporter": "python",
   "pygments_lexer": "ipython3",
   "version": "3.8.5"
  }
 },
 "nbformat": 4,
 "nbformat_minor": 5
}
