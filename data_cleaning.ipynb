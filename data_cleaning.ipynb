{
 "cells": [
  {
   "cell_type": "markdown",
   "id": "3be680b6-ff05-4963-b495-1b9c65df5a03",
   "metadata": {
    "tags": []
   },
   "source": [
    "### Data Cleaning\n",
    "#### The purpose of this notebook is to create cleaned .csv files to export for use in my data analyses"
   ]
  },
  {
   "cell_type": "markdown",
   "id": "ce69fff0-b005-4d9e-8ace-bca724abc069",
   "metadata": {},
   "source": [
    "More information about this project is available in my github repo here: https://github.com/Noah-Baustin/sf_crime_data_analysis"
   ]
  },
  {
   "cell_type": "code",
   "execution_count": 1,
   "id": "a28ad7b3-e536-48bd-80fe-04ba8e6b08d5",
   "metadata": {},
   "outputs": [
    {
     "name": "stderr",
     "output_type": "stream",
     "text": [
      "/Users/nbaustin/.pyenv/versions/3.8.5/envs/sf_crime_data_analysis-3.8.5/lib/python3.8/site-packages/pandas/compat/__init__.py:124: UserWarning: Could not import the lzma module. Your installed Python is incomplete. Attempting to use lzma compression will result in a RuntimeError.\n",
      "  warnings.warn(msg)\n"
     ]
    }
   ],
   "source": [
    "#import modules\n",
    "import pandas as pd"
   ]
  },
  {
   "cell_type": "code",
   "execution_count": 2,
   "id": "f2117050-d9a9-4ac8-91d5-7b305a6eb5d3",
   "metadata": {},
   "outputs": [],
   "source": [
    "# import historical csv into a variable\n",
    "historical_data = pd.read_csv('raw_data/SFPD_Incident_Reports_2003-May2018/Police_Department_Incident_Reports__Historical_2003_to_May_2018.csv', dtype=str)\n",
    "\n",
    "# import newer csv into a variable\n",
    "newer_data = pd.read_csv('raw_data/SFPD_Incident_Reports_2018-10.14.21/Police_Department_Incident_Reports__2018_to_Present(1).csv', dtype=str)"
   ]
  },
  {
   "cell_type": "markdown",
   "id": "a0d27cf0-6fd9-4173-93f3-411b982a737f",
   "metadata": {},
   "source": [
    "Trim the extra columns that we don't need from the historical data:"
   ]
  },
  {
   "cell_type": "code",
   "execution_count": 3,
   "id": "767c6539-e719-43bd-aae8-233abf630e12",
   "metadata": {},
   "outputs": [],
   "source": [
    "historical_data = historical_data[\n",
    "    ['PdId', 'IncidntNum', 'Incident Code', 'Category', 'Descript',\n",
    "       'DayOfWeek', 'Date', 'Time', 'PdDistrict', 'Resolution', 'X',\n",
    "       'Y', 'location']\n",
    "].copy()"
   ]
  },
  {
   "cell_type": "markdown",
   "id": "6da8ad2e-250c-4d6f-b216-7c06e3922cb6",
   "metadata": {},
   "source": [
    "Change the column names in the historical data to match the API names in the newer data. The SFPD published a key that I used to translate the column names over, which can be found on pg two of this document: https://drive.google.com/file/d/13n7pncEOxFTWig9-sTKnB2sRiTB54Kb-/view?usp=sharing"
   ]
  },
  {
   "cell_type": "code",
   "execution_count": 4,
   "id": "282707a9-6b7c-40a5-a8e2-2b440cdf69d0",
   "metadata": {},
   "outputs": [],
   "source": [
    "historical_data.rename(columns={'PdId': 'row_id',\n",
    "                                'IncidntNum': 'incident_number',\n",
    "                                'Incident Code': 'incident_code',\n",
    "                                'Category': 'incident_category',\n",
    "                                'Descript': 'incident_description',\n",
    "                                'DayOfWeek': 'day_of_week',\n",
    "                                'Date': 'incident_date',\n",
    "                                'Time': 'incident_time',\n",
    "                                'PdDistrict': 'police_district',\n",
    "                                'Resolution': 'resolution',\n",
    "                                'X': 'longitude',\n",
    "                                'Y': 'latitude',\n",
    "                                'location': 'the_geom'\n",
    "                               }, \n",
    "                       inplace=True)"
   ]
  },
  {
   "cell_type": "markdown",
   "id": "66a113a3-464c-4a27-92a6-3792716a8a4d",
   "metadata": {},
   "source": [
    "Now let's trim down the columns from the newer dataset so that we're only working with columns that match up to the old data. \n",
    "\n",
    "Note: there's no 'the geom' column, but the column 'point' seems to be equivelant. "
   ]
  },
  {
   "cell_type": "code",
   "execution_count": 6,
   "id": "64ded00c-c375-4bac-86d6-ba14117d04e8",
   "metadata": {},
   "outputs": [],
   "source": [
    "newer_data = newer_data[\n",
    "    ['Row ID', 'Incident Number', 'Incident Code', 'Incident Category', \n",
    "     'Incident Description', 'Incident Day of Week', 'Incident Date', 'Incident Time', \n",
    "     'Police District', 'Resolution', 'Longitude', 'Latitude', 'Point']\n",
    "].copy()"
   ]
  },
  {
   "cell_type": "markdown",
   "id": "38ff995c-0672-402b-a949-4bf24a5d60e5",
   "metadata": {},
   "source": [
    "Change the column names in the newer dataset to match the API names of the columns. Doing this because the original column names have spaces, which could cause issues down the road."
   ]
  },
  {
   "cell_type": "code",
   "execution_count": 7,
   "id": "88cbfa01-7f1c-4b39-95f3-0747286b750d",
   "metadata": {},
   "outputs": [],
   "source": [
    "newer_data.rename(columns={'Row ID': 'row_id',\n",
    "                           'Incident Number': 'incident_number',\n",
    "                           'Incident Code': 'incident_code',\n",
    "                           'Incident Category': 'incident_category',\n",
    "                           'Incident Description': 'incident_description',\n",
    "                           'Incident Day of Week': 'day_of_week', \n",
    "                           'Incident Date': 'incident_date',\n",
    "                           'Incident Time': 'incident_time',\n",
    "                           'Police District': 'police_district',\n",
    "                           'Resolution': 'resolution',\n",
    "                           'Longitude': 'longitude', \n",
    "                           'Latitude': 'latitude',\n",
    "                           'Point': 'the_geom' \n",
    "                               }, \n",
    "                       inplace=True)"
   ]
  },
  {
   "cell_type": "code",
   "execution_count": 8,
   "id": "69dc2ff1-0c74-470e-ab1a-0357009ddf08",
   "metadata": {},
   "outputs": [
    {
     "data": {
      "text/plain": [
       "Index(['row_id', 'incident_number', 'incident_code', 'incident_category',\n",
       "       'incident_description', 'day_of_week', 'incident_date', 'incident_time',\n",
       "       'police_district', 'resolution', 'longitude', 'latitude', 'the_geom'],\n",
       "      dtype='object')"
      ]
     },
     "execution_count": 8,
     "metadata": {},
     "output_type": "execute_result"
    }
   ],
   "source": [
    "historical_data.columns"
   ]
  },
  {
   "cell_type": "code",
   "execution_count": 9,
   "id": "d2866163-8fa1-488b-9b7c-93cf1c78c564",
   "metadata": {},
   "outputs": [
    {
     "data": {
      "text/plain": [
       "Index(['row_id', 'incident_number', 'incident_code', 'incident_category',\n",
       "       'incident_description', 'day_of_week', 'incident_date', 'incident_time',\n",
       "       'police_district', 'resolution', 'longitude', 'latitude', 'the_geom'],\n",
       "      dtype='object')"
      ]
     },
     "execution_count": 9,
     "metadata": {},
     "output_type": "execute_result"
    }
   ],
   "source": [
    "newer_data.columns"
   ]
  },
  {
   "cell_type": "markdown",
   "id": "8f8ad363-8666-4eeb-8ada-79095ca5d097",
   "metadata": {},
   "source": [
    "Now that our datasets have matching columns, let's merge them together. "
   ]
  },
  {
   "cell_type": "code",
   "execution_count": 10,
   "id": "bbfc8a01-e86e-4760-91c6-2c6cc440cb54",
   "metadata": {},
   "outputs": [],
   "source": [
    "frames = [historical_data, newer_data]\n",
    "all_data = pd.concat(frames)"
   ]
  },
  {
   "cell_type": "markdown",
   "id": "84991ada-6272-4ca7-9c88-5c22114e19b8",
   "metadata": {},
   "source": [
    "The dataframe all_data now contains our combined dataset!"
   ]
  },
  {
   "cell_type": "code",
   "execution_count": 16,
   "id": "fdbfc6f6-36b0-4d2d-89ab-ad41e5772f24",
   "metadata": {},
   "outputs": [
    {
     "name": "stdout",
     "output_type": "stream",
     "text": [
      "<class 'pandas.core.frame.DataFrame'>\n",
      "Int64Index: 2642742 entries, 0 to 513216\n",
      "Data columns (total 13 columns):\n",
      " #   Column                Dtype \n",
      "---  ------                ----- \n",
      " 0   row_id                object\n",
      " 1   incident_number       object\n",
      " 2   incident_code         object\n",
      " 3   incident_category     object\n",
      " 4   incident_description  object\n",
      " 5   day_of_week           object\n",
      " 6   incident_date         object\n",
      " 7   incident_time         object\n",
      " 8   police_district       object\n",
      " 9   resolution            object\n",
      " 10  longitude             object\n",
      " 11  latitude              object\n",
      " 12  the_geom              object\n",
      "dtypes: object(13)\n",
      "memory usage: 282.3+ MB\n"
     ]
    },
    {
     "data": {
      "text/html": [
       "<div>\n",
       "<style scoped>\n",
       "    .dataframe tbody tr th:only-of-type {\n",
       "        vertical-align: middle;\n",
       "    }\n",
       "\n",
       "    .dataframe tbody tr th {\n",
       "        vertical-align: top;\n",
       "    }\n",
       "\n",
       "    .dataframe thead th {\n",
       "        text-align: right;\n",
       "    }\n",
       "</style>\n",
       "<table border=\"1\" class=\"dataframe\">\n",
       "  <thead>\n",
       "    <tr style=\"text-align: right;\">\n",
       "      <th></th>\n",
       "      <th>row_id</th>\n",
       "      <th>incident_number</th>\n",
       "      <th>incident_code</th>\n",
       "      <th>incident_category</th>\n",
       "      <th>incident_description</th>\n",
       "      <th>day_of_week</th>\n",
       "      <th>incident_date</th>\n",
       "      <th>incident_time</th>\n",
       "      <th>police_district</th>\n",
       "      <th>resolution</th>\n",
       "      <th>longitude</th>\n",
       "      <th>latitude</th>\n",
       "      <th>the_geom</th>\n",
       "    </tr>\n",
       "  </thead>\n",
       "  <tbody>\n",
       "    <tr>\n",
       "      <th>0</th>\n",
       "      <td>3114751606302</td>\n",
       "      <td>031147516</td>\n",
       "      <td>06302</td>\n",
       "      <td>LARCENY/THEFT</td>\n",
       "      <td>PETTY THEFT FROM A BUILDING</td>\n",
       "      <td>Sunday</td>\n",
       "      <td>09/28/2003</td>\n",
       "      <td>10:00</td>\n",
       "      <td>SOUTHERN</td>\n",
       "      <td>NONE</td>\n",
       "      <td>-120.5</td>\n",
       "      <td>90</td>\n",
       "      <td>POINT (-120.50000000000001 90)</td>\n",
       "    </tr>\n",
       "    <tr>\n",
       "      <th>1</th>\n",
       "      <td>5069701104134</td>\n",
       "      <td>050697011</td>\n",
       "      <td>04134</td>\n",
       "      <td>ASSAULT</td>\n",
       "      <td>BATTERY</td>\n",
       "      <td>Wednesday</td>\n",
       "      <td>06/22/2005</td>\n",
       "      <td>12:20</td>\n",
       "      <td>NORTHERN</td>\n",
       "      <td>NONE</td>\n",
       "      <td>-122.428223303176</td>\n",
       "      <td>37.7818959488603</td>\n",
       "      <td>POINT (-122.42822330317601 37.7818959488603)</td>\n",
       "    </tr>\n",
       "    <tr>\n",
       "      <th>2</th>\n",
       "      <td>6074729204104</td>\n",
       "      <td>060747292</td>\n",
       "      <td>04104</td>\n",
       "      <td>ASSAULT</td>\n",
       "      <td>ASSAULT</td>\n",
       "      <td>Saturday</td>\n",
       "      <td>07/15/2006</td>\n",
       "      <td>00:55</td>\n",
       "      <td>CENTRAL</td>\n",
       "      <td>NONE</td>\n",
       "      <td>-122.410672425337</td>\n",
       "      <td>37.799788690123</td>\n",
       "      <td>POINT (-122.41067242533701 37.799788690123)</td>\n",
       "    </tr>\n",
       "    <tr>\n",
       "      <th>3</th>\n",
       "      <td>7103536315201</td>\n",
       "      <td>071035363</td>\n",
       "      <td>15201</td>\n",
       "      <td>ASSAULT</td>\n",
       "      <td>STALKING</td>\n",
       "      <td>Tuesday</td>\n",
       "      <td>09/25/2007</td>\n",
       "      <td>00:01</td>\n",
       "      <td>TARAVAL</td>\n",
       "      <td>NONE</td>\n",
       "      <td>-122.458226300605</td>\n",
       "      <td>37.7413616001449</td>\n",
       "      <td>POINT (-122.458226300605 37.7413616001449)</td>\n",
       "    </tr>\n",
       "    <tr>\n",
       "      <th>4</th>\n",
       "      <td>11082415274000</td>\n",
       "      <td>110824152</td>\n",
       "      <td>74000</td>\n",
       "      <td>MISSING PERSON</td>\n",
       "      <td>MISSING ADULT</td>\n",
       "      <td>Saturday</td>\n",
       "      <td>09/24/2011</td>\n",
       "      <td>11:00</td>\n",
       "      <td>TARAVAL</td>\n",
       "      <td>LOCATED</td>\n",
       "      <td>-122.459172646607</td>\n",
       "      <td>37.7082001648459</td>\n",
       "      <td>POINT (-122.459172646607 37.7082001648459)</td>\n",
       "    </tr>\n",
       "  </tbody>\n",
       "</table>\n",
       "</div>"
      ],
      "text/plain": [
       "           row_id incident_number incident_code incident_category  \\\n",
       "0   3114751606302       031147516         06302     LARCENY/THEFT   \n",
       "1   5069701104134       050697011         04134           ASSAULT   \n",
       "2   6074729204104       060747292         04104           ASSAULT   \n",
       "3   7103536315201       071035363         15201           ASSAULT   \n",
       "4  11082415274000       110824152         74000    MISSING PERSON   \n",
       "\n",
       "          incident_description day_of_week incident_date incident_time  \\\n",
       "0  PETTY THEFT FROM A BUILDING      Sunday    09/28/2003         10:00   \n",
       "1                      BATTERY   Wednesday    06/22/2005         12:20   \n",
       "2                      ASSAULT    Saturday    07/15/2006         00:55   \n",
       "3                     STALKING     Tuesday    09/25/2007         00:01   \n",
       "4                MISSING ADULT    Saturday    09/24/2011         11:00   \n",
       "\n",
       "  police_district resolution          longitude          latitude  \\\n",
       "0        SOUTHERN       NONE             -120.5                90   \n",
       "1        NORTHERN       NONE  -122.428223303176  37.7818959488603   \n",
       "2         CENTRAL       NONE  -122.410672425337   37.799788690123   \n",
       "3         TARAVAL       NONE  -122.458226300605  37.7413616001449   \n",
       "4         TARAVAL    LOCATED  -122.459172646607  37.7082001648459   \n",
       "\n",
       "                                       the_geom  \n",
       "0                POINT (-120.50000000000001 90)  \n",
       "1  POINT (-122.42822330317601 37.7818959488603)  \n",
       "2   POINT (-122.41067242533701 37.799788690123)  \n",
       "3    POINT (-122.458226300605 37.7413616001449)  \n",
       "4    POINT (-122.459172646607 37.7082001648459)  "
      ]
     },
     "execution_count": 16,
     "metadata": {},
     "output_type": "execute_result"
    }
   ],
   "source": [
    "all_data.info()\n",
    "all_data.head()"
   ]
  },
  {
   "cell_type": "code",
   "execution_count": 19,
   "id": "c9355b38-6212-40d2-a4ff-bc465bba5006",
   "metadata": {},
   "outputs": [],
   "source": [
    "all_data['incident_date'] = pd.to_datetime(all_data['incident_date'])"
   ]
  },
  {
   "cell_type": "markdown",
   "id": "47638f95-4436-4886-a64b-b93fc65c13eb",
   "metadata": {},
   "source": [
    "Now let's create a dataframe with all our marijuana data:"
   ]
  },
  {
   "cell_type": "code",
   "execution_count": 17,
   "id": "9c4b5102-c396-47ed-a93b-5ad9b6a0b4d9",
   "metadata": {},
   "outputs": [],
   "source": [
    "all_data_marijuana = all_data[\n",
    "    all_data['incident_description'].str.contains('MARIJUANA')\n",
    "].reset_index(drop=True)"
   ]
  },
  {
   "cell_type": "code",
   "execution_count": 20,
   "id": "1a6ae51e-3c66-4e0a-a4c5-becfa0526833",
   "metadata": {},
   "outputs": [
    {
     "data": {
      "text/html": [
       "<div>\n",
       "<style scoped>\n",
       "    .dataframe tbody tr th:only-of-type {\n",
       "        vertical-align: middle;\n",
       "    }\n",
       "\n",
       "    .dataframe tbody tr th {\n",
       "        vertical-align: top;\n",
       "    }\n",
       "\n",
       "    .dataframe thead th {\n",
       "        text-align: right;\n",
       "    }\n",
       "</style>\n",
       "<table border=\"1\" class=\"dataframe\">\n",
       "  <thead>\n",
       "    <tr style=\"text-align: right;\">\n",
       "      <th></th>\n",
       "      <th>row_id</th>\n",
       "      <th>incident_number</th>\n",
       "      <th>incident_code</th>\n",
       "      <th>incident_category</th>\n",
       "      <th>incident_description</th>\n",
       "      <th>day_of_week</th>\n",
       "      <th>incident_date</th>\n",
       "      <th>incident_time</th>\n",
       "      <th>police_district</th>\n",
       "      <th>resolution</th>\n",
       "      <th>longitude</th>\n",
       "      <th>latitude</th>\n",
       "      <th>the_geom</th>\n",
       "    </tr>\n",
       "  </thead>\n",
       "  <tbody>\n",
       "    <tr>\n",
       "      <th>0</th>\n",
       "      <td>16055139916010</td>\n",
       "      <td>160551399</td>\n",
       "      <td>16010</td>\n",
       "      <td>DRUG/NARCOTIC</td>\n",
       "      <td>POSSESSION OF MARIJUANA</td>\n",
       "      <td>Friday</td>\n",
       "      <td>07/08/2016</td>\n",
       "      <td>08:00</td>\n",
       "      <td>MISSION</td>\n",
       "      <td>ARREST, BOOKED</td>\n",
       "      <td>-122.42326589360349</td>\n",
       "      <td>37.765649515945</td>\n",
       "      <td>POINT (-122.42326589360349 37.765649515945)</td>\n",
       "    </tr>\n",
       "    <tr>\n",
       "      <th>1</th>\n",
       "      <td>17102985016010</td>\n",
       "      <td>171029850</td>\n",
       "      <td>16010</td>\n",
       "      <td>DRUG/NARCOTIC</td>\n",
       "      <td>POSSESSION OF MARIJUANA</td>\n",
       "      <td>Thursday</td>\n",
       "      <td>12/21/2017</td>\n",
       "      <td>10:40</td>\n",
       "      <td>TARAVAL</td>\n",
       "      <td>ARREST, BOOKED</td>\n",
       "      <td>-122.45364594949392</td>\n",
       "      <td>37.72327255110331</td>\n",
       "      <td>POINT (-122.45364594949392 37.72327255110331)</td>\n",
       "    </tr>\n",
       "    <tr>\n",
       "      <th>2</th>\n",
       "      <td>17026584716010</td>\n",
       "      <td>170265847</td>\n",
       "      <td>16010</td>\n",
       "      <td>DRUG/NARCOTIC</td>\n",
       "      <td>POSSESSION OF MARIJUANA</td>\n",
       "      <td>Saturday</td>\n",
       "      <td>04/01/2017</td>\n",
       "      <td>02:10</td>\n",
       "      <td>NORTHERN</td>\n",
       "      <td>ARREST, BOOKED</td>\n",
       "      <td>-122.43959183986001</td>\n",
       "      <td>37.783850873845424</td>\n",
       "      <td>POINT (-122.43959183986001 37.783850873845424)</td>\n",
       "    </tr>\n",
       "    <tr>\n",
       "      <th>3</th>\n",
       "      <td>16071288616010</td>\n",
       "      <td>160712886</td>\n",
       "      <td>16010</td>\n",
       "      <td>DRUG/NARCOTIC</td>\n",
       "      <td>POSSESSION OF MARIJUANA</td>\n",
       "      <td>Friday</td>\n",
       "      <td>09/02/2016</td>\n",
       "      <td>17:30</td>\n",
       "      <td>PARK</td>\n",
       "      <td>ARREST, BOOKED</td>\n",
       "      <td>-122.45351291112611</td>\n",
       "      <td>37.76869697865512</td>\n",
       "      <td>POINT (-122.45351291112611 37.76869697865512)</td>\n",
       "    </tr>\n",
       "    <tr>\n",
       "      <th>4</th>\n",
       "      <td>16054757016030</td>\n",
       "      <td>160547570</td>\n",
       "      <td>16030</td>\n",
       "      <td>DRUG/NARCOTIC</td>\n",
       "      <td>POSSESSION OF MARIJUANA FOR SALES</td>\n",
       "      <td>Wednesday</td>\n",
       "      <td>07/06/2016</td>\n",
       "      <td>18:32</td>\n",
       "      <td>RICHMOND</td>\n",
       "      <td>NONE</td>\n",
       "      <td>-122.46620466789287</td>\n",
       "      <td>37.772540539159316</td>\n",
       "      <td>POINT (-122.46620466789287 37.772540539159316)</td>\n",
       "    </tr>\n",
       "    <tr>\n",
       "      <th>...</th>\n",
       "      <td>...</td>\n",
       "      <td>...</td>\n",
       "      <td>...</td>\n",
       "      <td>...</td>\n",
       "      <td>...</td>\n",
       "      <td>...</td>\n",
       "      <td>...</td>\n",
       "      <td>...</td>\n",
       "      <td>...</td>\n",
       "      <td>...</td>\n",
       "      <td>...</td>\n",
       "      <td>...</td>\n",
       "      <td>...</td>\n",
       "    </tr>\n",
       "    <tr>\n",
       "      <th>21535</th>\n",
       "      <td>16042276216030</td>\n",
       "      <td>160422762</td>\n",
       "      <td>16030</td>\n",
       "      <td>DRUG/NARCOTIC</td>\n",
       "      <td>POSSESSION OF MARIJUANA FOR SALES</td>\n",
       "      <td>Tuesday</td>\n",
       "      <td>05/24/2016</td>\n",
       "      <td>00:36</td>\n",
       "      <td>NORTHERN</td>\n",
       "      <td>ARREST, BOOKED</td>\n",
       "      <td>-122.42577891406009</td>\n",
       "      <td>37.78231923926429</td>\n",
       "      <td>POINT (-122.42577891406009 37.78231923926429)</td>\n",
       "    </tr>\n",
       "    <tr>\n",
       "      <th>21536</th>\n",
       "      <td>17088308516030</td>\n",
       "      <td>170883085</td>\n",
       "      <td>16030</td>\n",
       "      <td>DRUG/NARCOTIC</td>\n",
       "      <td>POSSESSION OF MARIJUANA FOR SALES</td>\n",
       "      <td>Sunday</td>\n",
       "      <td>10/29/2017</td>\n",
       "      <td>01:23</td>\n",
       "      <td>CENTRAL</td>\n",
       "      <td>ARREST, BOOKED</td>\n",
       "      <td>-122.41007890005163</td>\n",
       "      <td>37.79649323840542</td>\n",
       "      <td>POINT (-122.41007890005163 37.79649323840542)</td>\n",
       "    </tr>\n",
       "    <tr>\n",
       "      <th>21537</th>\n",
       "      <td>17001056716010</td>\n",
       "      <td>170010567</td>\n",
       "      <td>16010</td>\n",
       "      <td>DRUG/NARCOTIC</td>\n",
       "      <td>POSSESSION OF MARIJUANA</td>\n",
       "      <td>Tuesday</td>\n",
       "      <td>01/03/2017</td>\n",
       "      <td>00:01</td>\n",
       "      <td>CENTRAL</td>\n",
       "      <td>NONE</td>\n",
       "      <td>-122.41736820674113</td>\n",
       "      <td>37.79050941515949</td>\n",
       "      <td>POINT (-122.41736820674113 37.79050941515949)</td>\n",
       "    </tr>\n",
       "    <tr>\n",
       "      <th>21538</th>\n",
       "      <td>17054496416030</td>\n",
       "      <td>170544964</td>\n",
       "      <td>16030</td>\n",
       "      <td>DRUG/NARCOTIC</td>\n",
       "      <td>POSSESSION OF MARIJUANA FOR SALES</td>\n",
       "      <td>Wednesday</td>\n",
       "      <td>07/05/2017</td>\n",
       "      <td>11:44</td>\n",
       "      <td>PARK</td>\n",
       "      <td>ARREST, BOOKED</td>\n",
       "      <td>-122.4525403126461</td>\n",
       "      <td>37.768390114069064</td>\n",
       "      <td>POINT (-122.4525403126461 37.768390114069064)</td>\n",
       "    </tr>\n",
       "    <tr>\n",
       "      <th>21539</th>\n",
       "      <td>17093126416040</td>\n",
       "      <td>170931264</td>\n",
       "      <td>16040</td>\n",
       "      <td>DRUG/NARCOTIC</td>\n",
       "      <td>SALE OF MARIJUANA</td>\n",
       "      <td>Wednesday</td>\n",
       "      <td>11/15/2017</td>\n",
       "      <td>14:50</td>\n",
       "      <td>PARK</td>\n",
       "      <td>ARREST, BOOKED</td>\n",
       "      <td>-122.45353456066029</td>\n",
       "      <td>37.76916629780518</td>\n",
       "      <td>POINT (-122.45353456066029 37.76916629780518)</td>\n",
       "    </tr>\n",
       "  </tbody>\n",
       "</table>\n",
       "<p>21540 rows × 13 columns</p>\n",
       "</div>"
      ],
      "text/plain": [
       "               row_id incident_number incident_code incident_category  \\\n",
       "0      16055139916010       160551399         16010     DRUG/NARCOTIC   \n",
       "1      17102985016010       171029850         16010     DRUG/NARCOTIC   \n",
       "2      17026584716010       170265847         16010     DRUG/NARCOTIC   \n",
       "3      16071288616010       160712886         16010     DRUG/NARCOTIC   \n",
       "4      16054757016030       160547570         16030     DRUG/NARCOTIC   \n",
       "...               ...             ...           ...               ...   \n",
       "21535  16042276216030       160422762         16030     DRUG/NARCOTIC   \n",
       "21536  17088308516030       170883085         16030     DRUG/NARCOTIC   \n",
       "21537  17001056716010       170010567         16010     DRUG/NARCOTIC   \n",
       "21538  17054496416030       170544964         16030     DRUG/NARCOTIC   \n",
       "21539  17093126416040       170931264         16040     DRUG/NARCOTIC   \n",
       "\n",
       "                    incident_description day_of_week incident_date  \\\n",
       "0                POSSESSION OF MARIJUANA      Friday    07/08/2016   \n",
       "1                POSSESSION OF MARIJUANA    Thursday    12/21/2017   \n",
       "2                POSSESSION OF MARIJUANA    Saturday    04/01/2017   \n",
       "3                POSSESSION OF MARIJUANA      Friday    09/02/2016   \n",
       "4      POSSESSION OF MARIJUANA FOR SALES   Wednesday    07/06/2016   \n",
       "...                                  ...         ...           ...   \n",
       "21535  POSSESSION OF MARIJUANA FOR SALES     Tuesday    05/24/2016   \n",
       "21536  POSSESSION OF MARIJUANA FOR SALES      Sunday    10/29/2017   \n",
       "21537            POSSESSION OF MARIJUANA     Tuesday    01/03/2017   \n",
       "21538  POSSESSION OF MARIJUANA FOR SALES   Wednesday    07/05/2017   \n",
       "21539                  SALE OF MARIJUANA   Wednesday    11/15/2017   \n",
       "\n",
       "      incident_time police_district      resolution            longitude  \\\n",
       "0             08:00         MISSION  ARREST, BOOKED  -122.42326589360349   \n",
       "1             10:40         TARAVAL  ARREST, BOOKED  -122.45364594949392   \n",
       "2             02:10        NORTHERN  ARREST, BOOKED  -122.43959183986001   \n",
       "3             17:30            PARK  ARREST, BOOKED  -122.45351291112611   \n",
       "4             18:32        RICHMOND            NONE  -122.46620466789287   \n",
       "...             ...             ...             ...                  ...   \n",
       "21535         00:36        NORTHERN  ARREST, BOOKED  -122.42577891406009   \n",
       "21536         01:23         CENTRAL  ARREST, BOOKED  -122.41007890005163   \n",
       "21537         00:01         CENTRAL            NONE  -122.41736820674113   \n",
       "21538         11:44            PARK  ARREST, BOOKED   -122.4525403126461   \n",
       "21539         14:50            PARK  ARREST, BOOKED  -122.45353456066029   \n",
       "\n",
       "                 latitude                                        the_geom  \n",
       "0         37.765649515945     POINT (-122.42326589360349 37.765649515945)  \n",
       "1       37.72327255110331   POINT (-122.45364594949392 37.72327255110331)  \n",
       "2      37.783850873845424  POINT (-122.43959183986001 37.783850873845424)  \n",
       "3       37.76869697865512   POINT (-122.45351291112611 37.76869697865512)  \n",
       "4      37.772540539159316  POINT (-122.46620466789287 37.772540539159316)  \n",
       "...                   ...                                             ...  \n",
       "21535   37.78231923926429   POINT (-122.42577891406009 37.78231923926429)  \n",
       "21536   37.79649323840542   POINT (-122.41007890005163 37.79649323840542)  \n",
       "21537   37.79050941515949   POINT (-122.41736820674113 37.79050941515949)  \n",
       "21538  37.768390114069064   POINT (-122.4525403126461 37.768390114069064)  \n",
       "21539   37.76916629780518   POINT (-122.45353456066029 37.76916629780518)  \n",
       "\n",
       "[21540 rows x 13 columns]"
      ]
     },
     "execution_count": 20,
     "metadata": {},
     "output_type": "execute_result"
    }
   ],
   "source": [
    "all_data_marijuana"
   ]
  },
  {
   "cell_type": "markdown",
   "id": "377a2526-407e-438b-897b-8aff658bddc4",
   "metadata": {},
   "source": [
    "Let's export our two dataframes to .csv's that we can now use in other data analysis!"
   ]
  },
  {
   "cell_type": "code",
   "execution_count": 21,
   "id": "0a47bcb9-2997-4e0a-931c-64de9da91ec0",
   "metadata": {},
   "outputs": [],
   "source": [
    "all_data.to_csv(\"all_data.csv\", index=False)\n",
    "all_data_marijuana.to_csv(\"all_data_marijuana.csv\", index=False)"
   ]
  },
  {
   "cell_type": "code",
   "execution_count": null,
   "id": "b095e74f-8324-43dc-9a49-7eda176dcbef",
   "metadata": {},
   "outputs": [],
   "source": []
  },
  {
   "cell_type": "code",
   "execution_count": null,
   "id": "b29dae1c-8668-483b-b76f-18321e8bc079",
   "metadata": {},
   "outputs": [],
   "source": []
  },
  {
   "cell_type": "code",
   "execution_count": null,
   "id": "4e81b0ac-d06f-47ae-b790-3c949247f8a5",
   "metadata": {},
   "outputs": [],
   "source": []
  }
 ],
 "metadata": {
  "kernelspec": {
   "display_name": "Python 3 (ipykernel)",
   "language": "python",
   "name": "python3"
  },
  "language_info": {
   "codemirror_mode": {
    "name": "ipython",
    "version": 3
   },
   "file_extension": ".py",
   "mimetype": "text/x-python",
   "name": "python",
   "nbconvert_exporter": "python",
   "pygments_lexer": "ipython3",
   "version": "3.8.5"
  }
 },
 "nbformat": 4,
 "nbformat_minor": 5
}
