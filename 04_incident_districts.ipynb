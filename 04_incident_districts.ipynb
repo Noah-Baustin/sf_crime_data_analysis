{
 "cells": [
  {
   "cell_type": "markdown",
   "id": "5d42bbf4-0dc1-474b-b5c9-04c856c62881",
   "metadata": {},
   "source": [
    "### The purpose of this notebook is to answer question three of my analysis questions:\n",
    "\n",
    "#### How many marijuana-involved incidents did SFPD report different police districts across the city?"
   ]
  },
  {
   "cell_type": "code",
   "execution_count": 1,
   "id": "b2cf2699-77e1-4f7c-83ec-0daa35149545",
   "metadata": {},
   "outputs": [
    {
     "name": "stderr",
     "output_type": "stream",
     "text": [
      "/Users/nbaustin/.pyenv/versions/3.8.5/envs/sf_crime_data_analysis-3.8.5/lib/python3.8/site-packages/pandas/compat/__init__.py:124: UserWarning: Could not import the lzma module. Your installed Python is incomplete. Attempting to use lzma compression will result in a RuntimeError.\n",
      "  warnings.warn(msg)\n"
     ]
    }
   ],
   "source": [
    "#import modules\n",
    "import pandas as pd\n",
    "import altair as alt"
   ]
  },
  {
   "cell_type": "markdown",
   "id": "9919cb3b-3a62-40f4-979c-9d3f0def4b9c",
   "metadata": {},
   "source": [
    "Import our cleaned dataset that contains all of our marijuana incidents. We made this .csv file in the data_cleaning notebook."
   ]
  },
  {
   "cell_type": "code",
   "execution_count": 2,
   "id": "a61d3e04-af5a-46eb-9c67-7177a4157995",
   "metadata": {},
   "outputs": [],
   "source": [
    "mari_incidents = pd.read_csv('all_data_marijuana.csv', dtype=str)"
   ]
  },
  {
   "cell_type": "markdown",
   "id": "5297c81b-aba9-4468-b9f4-1792f78f6a82",
   "metadata": {},
   "source": [
    "Convert our incident dates to a datetime data format."
   ]
  },
  {
   "cell_type": "code",
   "execution_count": 3,
   "id": "f3eeba42-2f13-40ef-9547-59a7aebede66",
   "metadata": {},
   "outputs": [],
   "source": [
    "mari_incidents['incident_date'] = pd.to_datetime(mari_incidents['incident_date'])"
   ]
  },
  {
   "cell_type": "markdown",
   "id": "76699b99-bcb6-418b-8208-0c2918c14d3d",
   "metadata": {},
   "source": [
    "Check our date ranges"
   ]
  },
  {
   "cell_type": "code",
   "execution_count": 4,
   "id": "b10c59c3-7d2a-4bb1-8b19-d5854ad65977",
   "metadata": {},
   "outputs": [
    {
     "data": {
      "text/plain": [
       "Timestamp('2003-01-01 00:00:00')"
      ]
     },
     "execution_count": 4,
     "metadata": {},
     "output_type": "execute_result"
    }
   ],
   "source": [
    "mari_incidents['incident_date'].min()"
   ]
  },
  {
   "cell_type": "code",
   "execution_count": 5,
   "id": "35e1888c-af9b-4477-882e-3c305a147b6f",
   "metadata": {},
   "outputs": [
    {
     "data": {
      "text/plain": [
       "Timestamp('2021-10-09 00:00:00')"
      ]
     },
     "execution_count": 5,
     "metadata": {},
     "output_type": "execute_result"
    }
   ],
   "source": [
    "mari_incidents['incident_date'].max()"
   ]
  },
  {
   "cell_type": "markdown",
   "id": "9c0ee991-96a0-4c4d-afec-fa340e8df27a",
   "metadata": {},
   "source": [
    "Looks like we've got a full year of data for 2003, our earliest year. But since 2021 ends in October, we can't do full annual analysis on that year. So let's make a dataframe with our full years of data."
   ]
  },
  {
   "cell_type": "code",
   "execution_count": 6,
   "id": "47edbf30-e879-45e8-8215-0eadc683b250",
   "metadata": {},
   "outputs": [],
   "source": [
    "full_years = mari_incidents[\n",
    "    (mari_incidents['incident_date'] >= '2003-01-01') &\n",
    "    (mari_incidents['incident_date'] < '2021-01-01')\n",
    "].reset_index(drop=True)"
   ]
  },
  {
   "cell_type": "markdown",
   "id": "842443c4-1d64-4726-b51a-2e625cd68eb5",
   "metadata": {},
   "source": [
    "We know from our data dictionary that there are multiple row entries for some individual incidents. But we also know that the incident_number will remain the same across all entries related to the same incident. So since we're just looking at how many incidents there were in each year in each district, we can go ahead and drop all the duplicates in the incident_number column:"
   ]
  },
  {
   "cell_type": "code",
   "execution_count": 7,
   "id": "565ad16b-a069-453c-aadf-530cf997b148",
   "metadata": {},
   "outputs": [],
   "source": [
    "full_years_incidents = full_years.drop_duplicates(subset=['incident_number'])"
   ]
  },
  {
   "cell_type": "code",
   "execution_count": 8,
   "id": "f97ca659-66fc-4991-b39a-d4b0fa8899a8",
   "metadata": {},
   "outputs": [
    {
     "data": {
      "text/html": [
       "<div>\n",
       "<style scoped>\n",
       "    .dataframe tbody tr th:only-of-type {\n",
       "        vertical-align: middle;\n",
       "    }\n",
       "\n",
       "    .dataframe tbody tr th {\n",
       "        vertical-align: top;\n",
       "    }\n",
       "\n",
       "    .dataframe thead th {\n",
       "        text-align: right;\n",
       "    }\n",
       "</style>\n",
       "<table border=\"1\" class=\"dataframe\">\n",
       "  <thead>\n",
       "    <tr style=\"text-align: right;\">\n",
       "      <th></th>\n",
       "      <th>row_id</th>\n",
       "      <th>incident_number</th>\n",
       "      <th>incident_code</th>\n",
       "      <th>incident_category</th>\n",
       "      <th>incident_description</th>\n",
       "      <th>day_of_week</th>\n",
       "      <th>incident_date</th>\n",
       "      <th>incident_time</th>\n",
       "      <th>police_district</th>\n",
       "      <th>resolution</th>\n",
       "      <th>longitude</th>\n",
       "      <th>latitude</th>\n",
       "      <th>the_geom</th>\n",
       "    </tr>\n",
       "  </thead>\n",
       "  <tbody>\n",
       "    <tr>\n",
       "      <th>0</th>\n",
       "      <td>16055139916010</td>\n",
       "      <td>160551399</td>\n",
       "      <td>16010</td>\n",
       "      <td>DRUG/NARCOTIC</td>\n",
       "      <td>possession of marijuana</td>\n",
       "      <td>Friday</td>\n",
       "      <td>2016-07-08</td>\n",
       "      <td>08:00</td>\n",
       "      <td>mission</td>\n",
       "      <td>ARREST, BOOKED</td>\n",
       "      <td>-122.42326589360349</td>\n",
       "      <td>37.765649515945</td>\n",
       "      <td>POINT (-122.42326589360349 37.765649515945)</td>\n",
       "    </tr>\n",
       "    <tr>\n",
       "      <th>1</th>\n",
       "      <td>17102985016010</td>\n",
       "      <td>171029850</td>\n",
       "      <td>16010</td>\n",
       "      <td>DRUG/NARCOTIC</td>\n",
       "      <td>possession of marijuana</td>\n",
       "      <td>Thursday</td>\n",
       "      <td>2017-12-21</td>\n",
       "      <td>10:40</td>\n",
       "      <td>taraval</td>\n",
       "      <td>ARREST, BOOKED</td>\n",
       "      <td>-122.45364594949392</td>\n",
       "      <td>37.72327255110331</td>\n",
       "      <td>POINT (-122.45364594949392 37.72327255110331)</td>\n",
       "    </tr>\n",
       "    <tr>\n",
       "      <th>2</th>\n",
       "      <td>17026584716010</td>\n",
       "      <td>170265847</td>\n",
       "      <td>16010</td>\n",
       "      <td>DRUG/NARCOTIC</td>\n",
       "      <td>possession of marijuana</td>\n",
       "      <td>Saturday</td>\n",
       "      <td>2017-04-01</td>\n",
       "      <td>02:10</td>\n",
       "      <td>northern</td>\n",
       "      <td>ARREST, BOOKED</td>\n",
       "      <td>-122.43959183986001</td>\n",
       "      <td>37.783850873845424</td>\n",
       "      <td>POINT (-122.43959183986001 37.783850873845424)</td>\n",
       "    </tr>\n",
       "    <tr>\n",
       "      <th>3</th>\n",
       "      <td>16071288616010</td>\n",
       "      <td>160712886</td>\n",
       "      <td>16010</td>\n",
       "      <td>DRUG/NARCOTIC</td>\n",
       "      <td>possession of marijuana</td>\n",
       "      <td>Friday</td>\n",
       "      <td>2016-09-02</td>\n",
       "      <td>17:30</td>\n",
       "      <td>park</td>\n",
       "      <td>ARREST, BOOKED</td>\n",
       "      <td>-122.45351291112611</td>\n",
       "      <td>37.76869697865512</td>\n",
       "      <td>POINT (-122.45351291112611 37.76869697865512)</td>\n",
       "    </tr>\n",
       "    <tr>\n",
       "      <th>4</th>\n",
       "      <td>16054757016030</td>\n",
       "      <td>160547570</td>\n",
       "      <td>16030</td>\n",
       "      <td>DRUG/NARCOTIC</td>\n",
       "      <td>possession of marijuana for sales</td>\n",
       "      <td>Wednesday</td>\n",
       "      <td>2016-07-06</td>\n",
       "      <td>18:32</td>\n",
       "      <td>richmond</td>\n",
       "      <td>NONE</td>\n",
       "      <td>-122.46620466789287</td>\n",
       "      <td>37.772540539159316</td>\n",
       "      <td>POINT (-122.46620466789287 37.772540539159316)</td>\n",
       "    </tr>\n",
       "  </tbody>\n",
       "</table>\n",
       "</div>"
      ],
      "text/plain": [
       "           row_id incident_number incident_code incident_category  \\\n",
       "0  16055139916010       160551399         16010     DRUG/NARCOTIC   \n",
       "1  17102985016010       171029850         16010     DRUG/NARCOTIC   \n",
       "2  17026584716010       170265847         16010     DRUG/NARCOTIC   \n",
       "3  16071288616010       160712886         16010     DRUG/NARCOTIC   \n",
       "4  16054757016030       160547570         16030     DRUG/NARCOTIC   \n",
       "\n",
       "                incident_description day_of_week incident_date incident_time  \\\n",
       "0            possession of marijuana      Friday    2016-07-08         08:00   \n",
       "1            possession of marijuana    Thursday    2017-12-21         10:40   \n",
       "2            possession of marijuana    Saturday    2017-04-01         02:10   \n",
       "3            possession of marijuana      Friday    2016-09-02         17:30   \n",
       "4  possession of marijuana for sales   Wednesday    2016-07-06         18:32   \n",
       "\n",
       "  police_district      resolution            longitude            latitude  \\\n",
       "0         mission  ARREST, BOOKED  -122.42326589360349     37.765649515945   \n",
       "1         taraval  ARREST, BOOKED  -122.45364594949392   37.72327255110331   \n",
       "2        northern  ARREST, BOOKED  -122.43959183986001  37.783850873845424   \n",
       "3            park  ARREST, BOOKED  -122.45351291112611   37.76869697865512   \n",
       "4        richmond            NONE  -122.46620466789287  37.772540539159316   \n",
       "\n",
       "                                         the_geom  \n",
       "0     POINT (-122.42326589360349 37.765649515945)  \n",
       "1   POINT (-122.45364594949392 37.72327255110331)  \n",
       "2  POINT (-122.43959183986001 37.783850873845424)  \n",
       "3   POINT (-122.45351291112611 37.76869697865512)  \n",
       "4  POINT (-122.46620466789287 37.772540539159316)  "
      ]
     },
     "execution_count": 8,
     "metadata": {},
     "output_type": "execute_result"
    }
   ],
   "source": [
    "full_years_incidents.head()"
   ]
  },
  {
   "cell_type": "code",
   "execution_count": 9,
   "id": "d37970f3-65b3-49e0-81c6-f669114fc283",
   "metadata": {},
   "outputs": [],
   "source": [
    "incidents_by_district = full_years_incidents.groupby(['police_district']).count()"
   ]
  },
  {
   "cell_type": "code",
   "execution_count": 10,
   "id": "10a24ff9-ea87-4733-974c-ebdbf2e3eb20",
   "metadata": {},
   "outputs": [],
   "source": [
    "clean_incidents_by_district = incidents_by_district[['row_id']].copy()"
   ]
  },
  {
   "cell_type": "code",
   "execution_count": 11,
   "id": "48fa5fe0-3e3b-45bc-b66b-a0f411f685fd",
   "metadata": {},
   "outputs": [],
   "source": [
    "clean_incidents_by_district = clean_incidents_by_district.reset_index()"
   ]
  },
  {
   "cell_type": "code",
   "execution_count": 12,
   "id": "8d720bb3-9c37-49a0-b85d-fa2eb5589fe7",
   "metadata": {},
   "outputs": [],
   "source": [
    "#rename columns\n",
    "clean_incidents_by_district.columns = ['police_district', 'number_of_incidents']"
   ]
  },
  {
   "cell_type": "code",
   "execution_count": 13,
   "id": "a0c3455d-b353-4dc4-a831-197f8b10877d",
   "metadata": {},
   "outputs": [],
   "source": [
    "#sort by number of incidents\n",
    "clean_incidents_by_district = clean_incidents_by_district.sort_values(by=['number_of_incidents'], ascending=False).reset_index(drop=True)"
   ]
  },
  {
   "cell_type": "code",
   "execution_count": 14,
   "id": "ca9d89bd-8ec0-424c-bcb4-ab188acc3664",
   "metadata": {},
   "outputs": [
    {
     "data": {
      "text/html": [
       "<div>\n",
       "<style scoped>\n",
       "    .dataframe tbody tr th:only-of-type {\n",
       "        vertical-align: middle;\n",
       "    }\n",
       "\n",
       "    .dataframe tbody tr th {\n",
       "        vertical-align: top;\n",
       "    }\n",
       "\n",
       "    .dataframe thead th {\n",
       "        text-align: right;\n",
       "    }\n",
       "</style>\n",
       "<table border=\"1\" class=\"dataframe\">\n",
       "  <thead>\n",
       "    <tr style=\"text-align: right;\">\n",
       "      <th></th>\n",
       "      <th>police_district</th>\n",
       "      <th>number_of_incidents</th>\n",
       "    </tr>\n",
       "  </thead>\n",
       "  <tbody>\n",
       "    <tr>\n",
       "      <th>0</th>\n",
       "      <td>southern</td>\n",
       "      <td>4310</td>\n",
       "    </tr>\n",
       "    <tr>\n",
       "      <th>1</th>\n",
       "      <td>tenderloin</td>\n",
       "      <td>3073</td>\n",
       "    </tr>\n",
       "    <tr>\n",
       "      <th>2</th>\n",
       "      <td>park</td>\n",
       "      <td>2797</td>\n",
       "    </tr>\n",
       "    <tr>\n",
       "      <th>3</th>\n",
       "      <td>mission</td>\n",
       "      <td>2247</td>\n",
       "    </tr>\n",
       "    <tr>\n",
       "      <th>4</th>\n",
       "      <td>bayview</td>\n",
       "      <td>1999</td>\n",
       "    </tr>\n",
       "    <tr>\n",
       "      <th>5</th>\n",
       "      <td>ingleside</td>\n",
       "      <td>1174</td>\n",
       "    </tr>\n",
       "    <tr>\n",
       "      <th>6</th>\n",
       "      <td>taraval</td>\n",
       "      <td>1059</td>\n",
       "    </tr>\n",
       "    <tr>\n",
       "      <th>7</th>\n",
       "      <td>northern</td>\n",
       "      <td>1025</td>\n",
       "    </tr>\n",
       "    <tr>\n",
       "      <th>8</th>\n",
       "      <td>richmond</td>\n",
       "      <td>728</td>\n",
       "    </tr>\n",
       "    <tr>\n",
       "      <th>9</th>\n",
       "      <td>central</td>\n",
       "      <td>597</td>\n",
       "    </tr>\n",
       "    <tr>\n",
       "      <th>10</th>\n",
       "      <td>out of sf</td>\n",
       "      <td>4</td>\n",
       "    </tr>\n",
       "  </tbody>\n",
       "</table>\n",
       "</div>"
      ],
      "text/plain": [
       "   police_district  number_of_incidents\n",
       "0         southern                 4310\n",
       "1       tenderloin                 3073\n",
       "2             park                 2797\n",
       "3          mission                 2247\n",
       "4          bayview                 1999\n",
       "5        ingleside                 1174\n",
       "6          taraval                 1059\n",
       "7         northern                 1025\n",
       "8         richmond                  728\n",
       "9          central                  597\n",
       "10       out of sf                    4"
      ]
     },
     "execution_count": 14,
     "metadata": {},
     "output_type": "execute_result"
    }
   ],
   "source": [
    "clean_incidents_by_district"
   ]
  },
  {
   "cell_type": "markdown",
   "id": "772c929f-357e-48fb-86f1-f37fc890ca55",
   "metadata": {},
   "source": [
    "So there we have it! That's all the marijuana related incidents the SF Police Department responded to from 2003-2020 by police district. It's clear that incidents that the police responded to are heavily weighted towards certain districts, including Southern, Tenderloin, and Park. An interesting follow up question would be to investigate why. Do more people live in those neighborhoods? Are more marijuana crimes committed in those neighborhoods? Do the police enforce marijuana laws differently in these neighborhoods than other parts of the city?"
   ]
  },
  {
   "cell_type": "markdown",
   "id": "8390249d-f705-438a-8b99-24982633152a",
   "metadata": {},
   "source": [
    "Let's visualize our data:"
   ]
  },
  {
   "cell_type": "code",
   "execution_count": 15,
   "id": "d3194046-6c1c-4788-be44-f0f0842fa545",
   "metadata": {},
   "outputs": [
    {
     "data": {
      "text/html": [
       "\n",
       "<div id=\"altair-viz-d113da11db5d482db2320d01d5cd5af1\"></div>\n",
       "<script type=\"text/javascript\">\n",
       "  (function(spec, embedOpt){\n",
       "    let outputDiv = document.currentScript.previousElementSibling;\n",
       "    if (outputDiv.id !== \"altair-viz-d113da11db5d482db2320d01d5cd5af1\") {\n",
       "      outputDiv = document.getElementById(\"altair-viz-d113da11db5d482db2320d01d5cd5af1\");\n",
       "    }\n",
       "    const paths = {\n",
       "      \"vega\": \"https://cdn.jsdelivr.net/npm//vega@5?noext\",\n",
       "      \"vega-lib\": \"https://cdn.jsdelivr.net/npm//vega-lib?noext\",\n",
       "      \"vega-lite\": \"https://cdn.jsdelivr.net/npm//vega-lite@4.8.1?noext\",\n",
       "      \"vega-embed\": \"https://cdn.jsdelivr.net/npm//vega-embed@6?noext\",\n",
       "    };\n",
       "\n",
       "    function loadScript(lib) {\n",
       "      return new Promise(function(resolve, reject) {\n",
       "        var s = document.createElement('script');\n",
       "        s.src = paths[lib];\n",
       "        s.async = true;\n",
       "        s.onload = () => resolve(paths[lib]);\n",
       "        s.onerror = () => reject(`Error loading script: ${paths[lib]}`);\n",
       "        document.getElementsByTagName(\"head\")[0].appendChild(s);\n",
       "      });\n",
       "    }\n",
       "\n",
       "    function showError(err) {\n",
       "      outputDiv.innerHTML = `<div class=\"error\" style=\"color:red;\">${err}</div>`;\n",
       "      throw err;\n",
       "    }\n",
       "\n",
       "    function displayChart(vegaEmbed) {\n",
       "      vegaEmbed(outputDiv, spec, embedOpt)\n",
       "        .catch(err => showError(`Javascript Error: ${err.message}<br>This usually means there's a typo in your chart specification. See the javascript console for the full traceback.`));\n",
       "    }\n",
       "\n",
       "    if(typeof define === \"function\" && define.amd) {\n",
       "      requirejs.config({paths});\n",
       "      require([\"vega-embed\"], displayChart, err => showError(`Error loading script: ${err.message}`));\n",
       "    } else if (typeof vegaEmbed === \"function\") {\n",
       "      displayChart(vegaEmbed);\n",
       "    } else {\n",
       "      loadScript(\"vega\")\n",
       "        .then(() => loadScript(\"vega-lite\"))\n",
       "        .then(() => loadScript(\"vega-embed\"))\n",
       "        .catch(showError)\n",
       "        .then(() => displayChart(vegaEmbed));\n",
       "    }\n",
       "  })({\"config\": {\"view\": {\"continuousWidth\": 400, \"continuousHeight\": 300}}, \"data\": {\"name\": \"data-39bcae0e5aba4860e048030126ec3a89\"}, \"mark\": \"bar\", \"encoding\": {\"x\": {\"type\": \"nominal\", \"field\": \"police_district\"}, \"y\": {\"type\": \"quantitative\", \"field\": \"number_of_incidents\"}}, \"title\": \"San Francisco Police: Marijuana Incidents by Police District 2003-2020\", \"$schema\": \"https://vega.github.io/schema/vega-lite/v4.8.1.json\", \"datasets\": {\"data-39bcae0e5aba4860e048030126ec3a89\": [{\"police_district\": \"southern\", \"number_of_incidents\": 4310}, {\"police_district\": \"tenderloin\", \"number_of_incidents\": 3073}, {\"police_district\": \"park\", \"number_of_incidents\": 2797}, {\"police_district\": \"mission\", \"number_of_incidents\": 2247}, {\"police_district\": \"bayview\", \"number_of_incidents\": 1999}, {\"police_district\": \"ingleside\", \"number_of_incidents\": 1174}, {\"police_district\": \"taraval\", \"number_of_incidents\": 1059}, {\"police_district\": \"northern\", \"number_of_incidents\": 1025}, {\"police_district\": \"richmond\", \"number_of_incidents\": 728}, {\"police_district\": \"central\", \"number_of_incidents\": 597}, {\"police_district\": \"out of sf\", \"number_of_incidents\": 4}]}}, {\"mode\": \"vega-lite\"});\n",
       "</script>"
      ],
      "text/plain": [
       "alt.Chart(...)"
      ]
     },
     "execution_count": 15,
     "metadata": {},
     "output_type": "execute_result"
    }
   ],
   "source": [
    "alt.Chart(clean_incidents_by_district).mark_bar().encode(\n",
    "    x='police_district',\n",
    "    y='number_of_incidents'\n",
    ").properties(\n",
    "    title='San Francisco Police: Marijuana Incidents by Police District 2003-2020'\n",
    ")"
   ]
  },
  {
   "cell_type": "markdown",
   "id": "2b5a12b7-6ddb-48d3-9260-da8014c644a0",
   "metadata": {},
   "source": [
    "That's the end of this analysis!"
   ]
  }
 ],
 "metadata": {
  "kernelspec": {
   "display_name": "Python 3 (ipykernel)",
   "language": "python",
   "name": "python3"
  },
  "language_info": {
   "codemirror_mode": {
    "name": "ipython",
    "version": 3
   },
   "file_extension": ".py",
   "mimetype": "text/x-python",
   "name": "python",
   "nbconvert_exporter": "python",
   "pygments_lexer": "ipython3",
   "version": "3.8.5"
  }
 },
 "nbformat": 4,
 "nbformat_minor": 5
}
